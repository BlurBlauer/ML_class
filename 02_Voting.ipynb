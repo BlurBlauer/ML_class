{
 "cells": [
  {
   "cell_type": "code",
   "execution_count": 1,
   "metadata": {},
   "outputs": [],
   "source": [
    "import pandas as pd\n",
    "import numpy as np\n",
    "import matplotlib.pyplot as plt\n",
    "from datetime import datetime, timedelta\n",
    "import seaborn as sns"
   ]
  },
  {
   "cell_type": "markdown",
   "metadata": {},
   "source": [
    "## Data Load"
   ]
  },
  {
   "cell_type": "code",
   "execution_count": 2,
   "metadata": {},
   "outputs": [],
   "source": [
    "train = pd.read_csv('./book_train.csv')\n",
    "test = pd.read_csv('./book_test.csv')\n",
    "#sample = pd.read_csv('./submission_sample.csv')"
   ]
  },
  {
   "cell_type": "code",
   "execution_count": 3,
   "metadata": {},
   "outputs": [],
   "source": [
    "result = test[['seq']]"
   ]
  },
  {
   "cell_type": "code",
   "execution_count": 4,
   "metadata": {
    "scrolled": true
   },
   "outputs": [
    {
     "data": {
      "text/html": [
       "<div>\n",
       "<style scoped>\n",
       "    .dataframe tbody tr th:only-of-type {\n",
       "        vertical-align: middle;\n",
       "    }\n",
       "\n",
       "    .dataframe tbody tr th {\n",
       "        vertical-align: top;\n",
       "    }\n",
       "\n",
       "    .dataframe thead th {\n",
       "        text-align: right;\n",
       "    }\n",
       "</style>\n",
       "<table border=\"1\" class=\"dataframe\">\n",
       "  <thead>\n",
       "    <tr style=\"text-align: right;\">\n",
       "      <th></th>\n",
       "      <th>is_canceled</th>\n",
       "      <th>hotel_type</th>\n",
       "      <th>lead_time</th>\n",
       "      <th>year</th>\n",
       "      <th>month</th>\n",
       "      <th>week_number</th>\n",
       "      <th>day</th>\n",
       "      <th>stays_in_weekend</th>\n",
       "      <th>stays_in_week</th>\n",
       "      <th>adults</th>\n",
       "      <th>...</th>\n",
       "      <th>pre_cancel</th>\n",
       "      <th>pre_not_cancel</th>\n",
       "      <th>reserved_room_type</th>\n",
       "      <th>assigned_room_type</th>\n",
       "      <th>booking_changes</th>\n",
       "      <th>deposit</th>\n",
       "      <th>days_in_basket</th>\n",
       "      <th>customer_type</th>\n",
       "      <th>required_parking</th>\n",
       "      <th>number_of_requests</th>\n",
       "    </tr>\n",
       "    <tr>\n",
       "      <th>seq</th>\n",
       "      <th></th>\n",
       "      <th></th>\n",
       "      <th></th>\n",
       "      <th></th>\n",
       "      <th></th>\n",
       "      <th></th>\n",
       "      <th></th>\n",
       "      <th></th>\n",
       "      <th></th>\n",
       "      <th></th>\n",
       "      <th></th>\n",
       "      <th></th>\n",
       "      <th></th>\n",
       "      <th></th>\n",
       "      <th></th>\n",
       "      <th></th>\n",
       "      <th></th>\n",
       "      <th></th>\n",
       "      <th></th>\n",
       "      <th></th>\n",
       "      <th></th>\n",
       "    </tr>\n",
       "  </thead>\n",
       "  <tbody>\n",
       "    <tr>\n",
       "      <td>B029399</td>\n",
       "      <td>0</td>\n",
       "      <td>R</td>\n",
       "      <td>7</td>\n",
       "      <td>2015</td>\n",
       "      <td>July</td>\n",
       "      <td>27</td>\n",
       "      <td>1</td>\n",
       "      <td>0</td>\n",
       "      <td>1</td>\n",
       "      <td>1</td>\n",
       "      <td>...</td>\n",
       "      <td>0</td>\n",
       "      <td>0</td>\n",
       "      <td>A</td>\n",
       "      <td>C</td>\n",
       "      <td>0</td>\n",
       "      <td>No Deposit</td>\n",
       "      <td>0</td>\n",
       "      <td>Transient</td>\n",
       "      <td>0</td>\n",
       "      <td>0</td>\n",
       "    </tr>\n",
       "    <tr>\n",
       "      <td>B029245</td>\n",
       "      <td>0</td>\n",
       "      <td>R</td>\n",
       "      <td>14</td>\n",
       "      <td>2015</td>\n",
       "      <td>July</td>\n",
       "      <td>27</td>\n",
       "      <td>1</td>\n",
       "      <td>0</td>\n",
       "      <td>2</td>\n",
       "      <td>2</td>\n",
       "      <td>...</td>\n",
       "      <td>0</td>\n",
       "      <td>0</td>\n",
       "      <td>A</td>\n",
       "      <td>A</td>\n",
       "      <td>0</td>\n",
       "      <td>No Deposit</td>\n",
       "      <td>0</td>\n",
       "      <td>Transient</td>\n",
       "      <td>0</td>\n",
       "      <td>1</td>\n",
       "    </tr>\n",
       "    <tr>\n",
       "      <td>B055775</td>\n",
       "      <td>0</td>\n",
       "      <td>R</td>\n",
       "      <td>14</td>\n",
       "      <td>2015</td>\n",
       "      <td>July</td>\n",
       "      <td>27</td>\n",
       "      <td>1</td>\n",
       "      <td>0</td>\n",
       "      <td>2</td>\n",
       "      <td>2</td>\n",
       "      <td>...</td>\n",
       "      <td>0</td>\n",
       "      <td>0</td>\n",
       "      <td>A</td>\n",
       "      <td>A</td>\n",
       "      <td>0</td>\n",
       "      <td>No Deposit</td>\n",
       "      <td>0</td>\n",
       "      <td>Transient</td>\n",
       "      <td>0</td>\n",
       "      <td>1</td>\n",
       "    </tr>\n",
       "    <tr>\n",
       "      <td>B093241</td>\n",
       "      <td>0</td>\n",
       "      <td>R</td>\n",
       "      <td>0</td>\n",
       "      <td>2015</td>\n",
       "      <td>July</td>\n",
       "      <td>27</td>\n",
       "      <td>1</td>\n",
       "      <td>0</td>\n",
       "      <td>2</td>\n",
       "      <td>2</td>\n",
       "      <td>...</td>\n",
       "      <td>0</td>\n",
       "      <td>0</td>\n",
       "      <td>C</td>\n",
       "      <td>C</td>\n",
       "      <td>0</td>\n",
       "      <td>No Deposit</td>\n",
       "      <td>0</td>\n",
       "      <td>Transient</td>\n",
       "      <td>0</td>\n",
       "      <td>0</td>\n",
       "    </tr>\n",
       "    <tr>\n",
       "      <td>B061800</td>\n",
       "      <td>0</td>\n",
       "      <td>R</td>\n",
       "      <td>9</td>\n",
       "      <td>2015</td>\n",
       "      <td>July</td>\n",
       "      <td>27</td>\n",
       "      <td>1</td>\n",
       "      <td>0</td>\n",
       "      <td>2</td>\n",
       "      <td>2</td>\n",
       "      <td>...</td>\n",
       "      <td>0</td>\n",
       "      <td>0</td>\n",
       "      <td>C</td>\n",
       "      <td>C</td>\n",
       "      <td>0</td>\n",
       "      <td>No Deposit</td>\n",
       "      <td>0</td>\n",
       "      <td>Transient</td>\n",
       "      <td>0</td>\n",
       "      <td>1</td>\n",
       "    </tr>\n",
       "  </tbody>\n",
       "</table>\n",
       "<p>5 rows × 26 columns</p>\n",
       "</div>"
      ],
      "text/plain": [
       "         is_canceled hotel_type  lead_time  year month  week_number  day  \\\n",
       "seq                                                                        \n",
       "B029399            0          R          7  2015  July           27    1   \n",
       "B029245            0          R         14  2015  July           27    1   \n",
       "B055775            0          R         14  2015  July           27    1   \n",
       "B093241            0          R          0  2015  July           27    1   \n",
       "B061800            0          R          9  2015  July           27    1   \n",
       "\n",
       "         stays_in_weekend  stays_in_week  adults  ...  pre_cancel  \\\n",
       "seq                                               ...               \n",
       "B029399                 0              1       1  ...           0   \n",
       "B029245                 0              2       2  ...           0   \n",
       "B055775                 0              2       2  ...           0   \n",
       "B093241                 0              2       2  ...           0   \n",
       "B061800                 0              2       2  ...           0   \n",
       "\n",
       "         pre_not_cancel reserved_room_type assigned_room_type booking_changes  \\\n",
       "seq                                                                             \n",
       "B029399               0                  A                  C               0   \n",
       "B029245               0                  A                  A               0   \n",
       "B055775               0                  A                  A               0   \n",
       "B093241               0                  C                  C               0   \n",
       "B061800               0                  C                  C               0   \n",
       "\n",
       "            deposit  days_in_basket  customer_type required_parking  \\\n",
       "seq                                                                   \n",
       "B029399  No Deposit               0      Transient                0   \n",
       "B029245  No Deposit               0      Transient                0   \n",
       "B055775  No Deposit               0      Transient                0   \n",
       "B093241  No Deposit               0      Transient                0   \n",
       "B061800  No Deposit               0      Transient                0   \n",
       "\n",
       "        number_of_requests  \n",
       "seq                         \n",
       "B029399                  0  \n",
       "B029245                  1  \n",
       "B055775                  1  \n",
       "B093241                  0  \n",
       "B061800                  1  \n",
       "\n",
       "[5 rows x 26 columns]"
      ]
     },
     "execution_count": 4,
     "metadata": {},
     "output_type": "execute_result"
    }
   ],
   "source": [
    "test['is_canceled'] = 3\n",
    "data = pd.concat([train, test], sort = False).set_index('seq')\n",
    "data.head()"
   ]
  },
  {
   "cell_type": "code",
   "execution_count": 5,
   "metadata": {},
   "outputs": [],
   "source": [
    "# data child의 결측치\n",
    "data['child'] = data['child'].fillna(0)\n",
    "data['child'] = data['child'].astype(int)"
   ]
  },
  {
   "cell_type": "markdown",
   "metadata": {},
   "source": [
    "## Data Cleansing_Train"
   ]
  },
  {
   "cell_type": "code",
   "execution_count": 6,
   "metadata": {},
   "outputs": [],
   "source": [
    "# hotel type\n",
    "data['hotel_type_C'] = data['hotel_type'].apply(lambda x:1 if x == \"C\" else 0)\n",
    "data['hotel_type_R'] = data['hotel_type'].apply(lambda x:1 if x == \"R\" else 0)\n",
    "data = data.drop('hotel_type', axis = 1)"
   ]
  },
  {
   "cell_type": "code",
   "execution_count": 7,
   "metadata": {},
   "outputs": [],
   "source": [
    "#lead_time\n",
    "data['lead_time_0'] = data['lead_time'].apply(lambda x: 1 if x > 0 else 0)\n",
    "data['lead_time_30'] = data['lead_time'].apply(lambda x: 1 if x >= 30 else 0)\n",
    "data['lead_time_90'] = data['lead_time'].apply(lambda x: 1 if x >= 90 else 0)"
   ]
  },
  {
   "cell_type": "code",
   "execution_count": 8,
   "metadata": {},
   "outputs": [],
   "source": [
    "# year\n",
    "data['y_2015'] = data['year'].apply(lambda x: 1 if x == 2015 else 0)\n",
    "data['y_2016'] = data['year'].apply(lambda x: 1 if x == 2016 else 0)\n",
    "data['y_2017'] = data['year'].apply(lambda x: 1 if x == 2017 else 0)"
   ]
  },
  {
   "cell_type": "code",
   "execution_count": 9,
   "metadata": {},
   "outputs": [],
   "source": [
    "#month --> 계절에 따라\n",
    "data['spring'] = data['month'].apply(lambda x: 1 if x == 'March' or x == 'April' or x == 'May' else 0)\n",
    "data['summer'] = data['month'].apply(lambda x: 1 if x == 'June' or x == 'July' or x == 'August' else 0)\n",
    "data['fall'] = data['month'].apply(lambda x: 1 if x == 'September' or x == 'October' or x == 'November' else 0)\n",
    "data['winter'] = data['month'].apply(lambda x: 1 if x == 'December' or x == 'January' or x == 'February' else 0)"
   ]
  },
  {
   "cell_type": "code",
   "execution_count": 10,
   "metadata": {},
   "outputs": [],
   "source": [
    "#day\n",
    "data['day_0'] = data['day'].apply(lambda x: 1 if x <= 10 else 0)\n",
    "data['day_10'] = data['day'].apply(lambda x: 1 if x >= 11 and x <= 20 else 0)\n",
    "data['day_20'] = data['day'].apply(lambda x: 1 if x >= 21 else 0)"
   ]
  },
  {
   "cell_type": "code",
   "execution_count": 11,
   "metadata": {},
   "outputs": [],
   "source": [
    "def filter_month(x):\n",
    "    if x == 'January':\n",
    "        return 1\n",
    "    elif x == 'February':\n",
    "        return 2\n",
    "    elif x == 'March':\n",
    "        return 3\n",
    "    elif x == 'April':\n",
    "        return 4\n",
    "    elif x == 'May':\n",
    "        return 5\n",
    "    elif x == 'June':\n",
    "        return 6\n",
    "    elif x == 'July':\n",
    "        return 7\n",
    "    elif x == 'August':\n",
    "        return 8\n",
    "    elif x == 'September':\n",
    "        return 9\n",
    "    elif x == 'October':\n",
    "        return 10\n",
    "    elif x == 'November':\n",
    "        return 11\n",
    "    elif x == 'December':\n",
    "        return 12"
   ]
  },
  {
   "cell_type": "code",
   "execution_count": 12,
   "metadata": {},
   "outputs": [],
   "source": [
    "# 월을 숫자로\n",
    "data['month'] = data['month'].apply(lambda x: filter_month(x))\n",
    "\n",
    "#형식 변환\n",
    "data['year'] = data['year'].astype(str)\n",
    "data['month'] = data['month'].astype(str)\n",
    "data['day'] = data['day'].astype(str)\n",
    "\n",
    "#형식 변환2\n",
    "data['month'] = data['month'].apply(lambda x: x.zfill(2))\n",
    "data['day'] = data['day'].apply(lambda x: x.zfill(2))"
   ]
  },
  {
   "cell_type": "code",
   "execution_count": 13,
   "metadata": {
    "scrolled": true
   },
   "outputs": [],
   "source": [
    "# datetime으로 변환\n",
    "data['date'] = data['year']+data['month']+data['day']\n",
    "data['date'] = pd.to_datetime(data['date'], format = '%Y%m%d')\n",
    "\n",
    "#요일 --> 숫자\n",
    "data['weekdays'] = data['date'].apply(lambda x: x.weekday())"
   ]
  },
  {
   "cell_type": "code",
   "execution_count": 14,
   "metadata": {},
   "outputs": [],
   "source": [
    "data['weekdays'] = data['date'].apply(lambda x: x.weekday())"
   ]
  },
  {
   "cell_type": "code",
   "execution_count": 15,
   "metadata": {},
   "outputs": [],
   "source": [
    "#각 요일\n",
    "data['w_Mon'] = data['weekdays'].apply(lambda x: 1 if x == 0 else 0)\n",
    "data['w_Tue'] = data['weekdays'].apply(lambda x: 1 if x == 1 else 0)\n",
    "data['w_Wed'] = data['weekdays'].apply(lambda x: 1 if x == 2 else 0)\n",
    "data['w_Thu'] = data['weekdays'].apply(lambda x: 1 if x == 3 else 0)\n",
    "data['w_Fri'] = data['weekdays'].apply(lambda x: 1 if x == 4 else 0)\n",
    "data['w_Sat'] = data['weekdays'].apply(lambda x: 1 if x == 5 else 0)\n",
    "data['w_Sun'] = data['weekdays'].apply(lambda x: 1 if x == 6 else 0)\n",
    "\n",
    "#주말 유뮤\n",
    "data['w_weekends'] = data['weekdays'].apply(lambda x: 1 if x == 5 or x == 6 else 0)"
   ]
  },
  {
   "cell_type": "code",
   "execution_count": 16,
   "metadata": {},
   "outputs": [],
   "source": [
    "# year, month, day값 변환\n",
    "data = data.drop(['year', 'month', 'date', 'weekdays'], axis =1 )\n",
    "data['day'] = data['day'].astype(int)"
   ]
  },
  {
   "cell_type": "code",
   "execution_count": 17,
   "metadata": {},
   "outputs": [],
   "source": [
    "#week_number\n",
    "data['week0_13'] = data['week_number'].apply(lambda x: 1 if x >= 0 and x <= 13 else 0)\n",
    "data['week14_26'] = data['week_number'].apply(lambda x: 1 if x >= 14 and x <= 26 else 0)\n",
    "data['week27_39'] = data['week_number'].apply(lambda x: 1 if x >= 27 and x <= 39 else 0)\n",
    "data['week39_53'] = data['week_number'].apply(lambda x: 1 if x >= 39 and x <= 53 else 0)"
   ]
  },
  {
   "cell_type": "code",
   "execution_count": 18,
   "metadata": {},
   "outputs": [],
   "source": [
    "# stays_in_weekend\n",
    "data['stays_in_weekend_Y'] = data['stays_in_weekend'].apply(lambda x: 1 if x > 0 else 0)\n",
    "data['st_weekend0'] = data['stays_in_weekend'].apply(lambda x: 1 if x == 0 else 0)\n",
    "\n",
    "data['st_weekend1'] = data['stays_in_weekend'].apply(lambda x: 1 if x == 1 else 0)\n",
    "data['st_weekend2'] = data['stays_in_weekend'].apply(lambda x: 1 if x == 2 else 0)\n",
    "data['st_weekend3'] = data['stays_in_weekend'].apply(lambda x: 1 if x == 3 else 0)\n",
    "data['st_weekend4'] = data['stays_in_weekend'].apply(lambda x: 1 if x == 4 else 0)\n",
    "data['st_weekend5'] = data['stays_in_weekend'].apply(lambda x: 1 if x >= 5 else 0)"
   ]
  },
  {
   "cell_type": "code",
   "execution_count": 19,
   "metadata": {},
   "outputs": [],
   "source": [
    "# stays_in_weekend\n",
    "data['stays_in_week_Y'] = data['stays_in_week'].apply(lambda x: 1 if x > 0 else 0)\n",
    "data['st_week0'] = data['stays_in_weekend'].apply(lambda x: 1 if x == 0 else 0)\n",
    "\n",
    "data['st_week1'] = data['stays_in_week'].apply(lambda x: 1 if x == 1 else 0)\n",
    "data['st_week2'] = data['stays_in_week'].apply(lambda x: 1 if x == 2 else 0)\n",
    "data['st_week3'] = data['stays_in_week'].apply(lambda x: 1 if x == 3 else 0)\n",
    "data['st_week4'] = data['stays_in_week'].apply(lambda x: 1 if x == 4 else 0)\n",
    "data['st_week5'] = data['stays_in_week'].apply(lambda x: 1 if x == 5 else 0)\n",
    "\n",
    "data['st_week6'] = data['stays_in_week'].apply(lambda x: 1 if x == 6 else 0)\n",
    "data['st_week7'] = data['stays_in_week'].apply(lambda x: 1 if x == 7 else 0)\n",
    "data['st_week8'] = data['stays_in_week'].apply(lambda x: 1 if x == 8 else 0)\n",
    "data['st_week9'] = data['stays_in_week'].apply(lambda x: 1 if x == 9 else 0)\n",
    "data['st_week10'] = data['stays_in_week'].apply(lambda x: 1 if x == 10 else 0)\n",
    "\n",
    "data['st_week11'] = data['stays_in_week'].apply(lambda x: 1 if x == 11 else 0)\n",
    "data['st_week12'] = data['stays_in_week'].apply(lambda x: 1 if x == 12 else 0)\n",
    "data['st_weeek13'] = data['stays_in_week'].apply(lambda x: 1 if x == 13 else 0)\n",
    "data['st_week14'] = data['stays_in_week'].apply(lambda x: 1 if x == 14 else 0)\n",
    "data['st_week15'] = data['stays_in_week'].apply(lambda x: 1 if x == 15 else 0)\n",
    "\n",
    "data['st_week16'] = data['stays_in_week'].apply(lambda x: 1 if x >= 16 else 0)"
   ]
  },
  {
   "cell_type": "code",
   "execution_count": 20,
   "metadata": {},
   "outputs": [],
   "source": [
    "#adults, child, baby\n",
    "data['child_Y'] = data['child'].apply(lambda x: 1 if x > 0 else 0)\n",
    "data['baby_Y'] = data['baby'].apply(lambda x: 1 if x > 0 else 0)\n",
    "data['ch&ba_Y'] = data.apply(lambda x: 1 if x['child_Y'] == 1 or x['baby_Y'] == 1 else 0, axis = 1)"
   ]
  },
  {
   "cell_type": "code",
   "execution_count": 21,
   "metadata": {},
   "outputs": [],
   "source": [
    "#meal\n",
    "data['meal_BB'] = data['meal'].apply(lambda x:1 if x == \"BB\" else 0)\n",
    "data['meal_HB'] = data['meal'].apply(lambda x:1 if x == \"HB\" else 0)\n",
    "data['meal_FB'] = data['meal'].apply(lambda x:1 if x == \"FB\" else 0)\n",
    "data['meal_NO'] = data['meal'].apply(lambda x:1 if x == \"No_meal\" else 0)\n",
    "data = data.drop('meal', axis = 1)"
   ]
  },
  {
   "cell_type": "code",
   "execution_count": 22,
   "metadata": {},
   "outputs": [],
   "source": [
    "#country\n",
    "a = data.query('is_canceled != 3')[['is_canceled', 'country']]\n",
    "\n",
    "num_country = a['country'].value_counts().reset_index()\n",
    "num_country.rename(columns = {\"index\": \"country\",\n",
    "                              \"country\": \"sum\"},\n",
    "                   inplace=True)\n",
    "can_country = a.query('is_canceled == 1').groupby('country')['is_canceled'].sum().reset_index()\n",
    "\n",
    "df_cnt = pd.merge(num_country, can_country, on = 'country', how = 'left')\n",
    "df_cnt['is_canceled'] = df_cnt['is_canceled'].fillna(0)\n",
    "\n",
    "df_cnt['c_prob'] = round(df_cnt['is_canceled'] / df_cnt['sum'], 4)\n",
    "fin_cnt = df_cnt[['country','c_prob']]\n",
    "\n",
    "data = pd.merge(data, fin_cnt, on = 'country', how = 'left')\n",
    "data['c_prob'] = data['c_prob'].fillna(0)"
   ]
  },
  {
   "cell_type": "code",
   "execution_count": 23,
   "metadata": {},
   "outputs": [],
   "source": [
    "data['c_PRT'] = data['country'].apply(lambda x: 1 if x == 'PRT' else 0 )\n",
    "data['c_GBR'] = data['country'].apply(lambda x: 1 if x == 'GBR' else 0 )\n",
    "data['c_FRA'] = data['country'].apply(lambda x: 1 if x == 'FRA' else 0 )\n",
    "data['c_ESP'] = data['country'].apply(lambda x: 1 if x == 'ESP' else 0 )\n",
    "data['c_DEU'] = data['country'].apply(lambda x: 1 if x == 'DEU' else 0 )\n",
    "\n",
    "data['c_ITA'] = data['country'].apply(lambda x: 1 if x == 'ITA' else 0 )\n",
    "data['c_IRL'] = data['country'].apply(lambda x: 1 if x == 'IRL' else 0 )\n",
    "data['c_BEL'] = data['country'].apply(lambda x: 1 if x == 'BEL' else 0 )\n",
    "data['c_BRA'] = data['country'].apply(lambda x: 1 if x == 'BRA' else 0 )\n",
    "data['c_NLD'] = data['country'].apply(lambda x: 1 if x == 'NLD' else 0 )\n",
    "\n",
    "data['c_USA'] = data['country'].apply(lambda x: 1 if x == 'USA' else 0 )\n",
    "data['c_CHE'] = data['country'].apply(lambda x: 1 if x == 'CHE' else 0 )\n",
    "data['c_AUT'] = data['country'].apply(lambda x: 1 if x == 'AUT' else 0 )\n",
    "data['c_CN'] = data['country'].apply(lambda x: 1 if x == 'CN' else 0 )\n",
    "data['c_SWE'] = data['country'].apply(lambda x: 1 if x == 'SWE' else 0 )\n",
    "\n",
    "data['c_CHN'] = data['country'].apply(lambda x: 1 if x == 'CHN' else 0 )"
   ]
  },
  {
   "cell_type": "code",
   "execution_count": 24,
   "metadata": {},
   "outputs": [],
   "source": [
    "data = data.drop('country', axis = 1)"
   ]
  },
  {
   "cell_type": "code",
   "execution_count": 25,
   "metadata": {},
   "outputs": [],
   "source": [
    "#book_method\n",
    "data['book_on'] = data['book_method'].apply(lambda x: 1 if x == 'Online TA' else 0)\n",
    "data['book_off'] = data['book_method'].apply(lambda x: 1 if x == 'Offline TA/TO' else 0)\n",
    "data['book_grp'] = data['book_method'].apply(lambda x: 1 if x == 'Groups' else 0)\n",
    "data['book_dir'] = data['book_method'].apply(lambda x: 1 if x == 'Direct' else 0)\n",
    "data['book_cor'] = data['book_method'].apply(lambda x: 1 if x == 'Corporate' else 0)\n",
    "data['book_oth'] = data['book_method'].apply(lambda x: 1 if x == 'Others' else 0)\n",
    "data = data.drop('book_method', axis = 1)"
   ]
  },
  {
   "cell_type": "code",
   "execution_count": 26,
   "metadata": {},
   "outputs": [],
   "source": [
    "#is_repeated_guest"
   ]
  },
  {
   "cell_type": "code",
   "execution_count": 27,
   "metadata": {
    "scrolled": true
   },
   "outputs": [],
   "source": [
    "#pre_cancel: 이전에 취소 횟수\n",
    "data['pre_cancel_0'] = data['pre_cancel'].apply(lambda x: 1 if x == 0 else 1)\n",
    "data['pre_cancel_1'] = data['pre_cancel'].apply(lambda x: 1 if x == 1 else 1)\n",
    "data['pre_cancel_2'] = data['pre_cancel'].apply(lambda x: 2 if x == 2 else 1)\n",
    "\n",
    "data['pre_cancel_1_10'] = data['pre_cancel'].apply(lambda x: 1 if x >= 3 and x < 10 else 1)\n",
    "\n",
    "data['pre_cancel_10'] = data['pre_cancel'].apply(lambda x: 1 if x >= 10 else 1)"
   ]
  },
  {
   "cell_type": "code",
   "execution_count": 28,
   "metadata": {},
   "outputs": [],
   "source": [
    "#pre_not_cancel\n",
    "data['pre_not_cancel_0'] = data['pre_not_cancel'].apply(lambda x: 1 if x == 0 else 1)\n",
    "\n",
    "data['pre_not_cancel_1'] = data['pre_not_cancel'].apply(lambda x: 1 if x == 1 else 1)\n",
    "data['pre_not_cancel_2'] = data['pre_not_cancel'].apply(lambda x: 1 if x == 2 else 1)\n",
    "data['pre_not_cancel_3'] = data['pre_not_cancel'].apply(lambda x: 1 if x == 3 else 1)\n",
    "data['pre_not_cancel_4'] = data['pre_not_cancel'].apply(lambda x: 1 if x == 4 else 1)\n",
    "data['pre_not_cancel_5'] = data['pre_not_cancel'].apply(lambda x: 1 if x == 5 else 1)\n",
    "\n",
    "data['pre_not_cancel_6'] = data['pre_not_cancel'].apply(lambda x: 1 if x == 6 else 1)\n",
    "data['pre_not_cancel_7'] = data['pre_not_cancel'].apply(lambda x: 1 if x >= 7 else 1)"
   ]
  },
  {
   "cell_type": "code",
   "execution_count": null,
   "metadata": {},
   "outputs": [],
   "source": []
  },
  {
   "cell_type": "code",
   "execution_count": 29,
   "metadata": {},
   "outputs": [],
   "source": [
    "# pre_cancel & pre_not_cancel\n",
    "data['canceled_neg']  = (data['pre_not_cancel'] - data['pre_cancel']).apply(lambda x:1 if x < 0 else 0 )\n",
    "data['canceled_0']  = (data['pre_not_cancel'] - data['pre_cancel']).apply(lambda x:1 if x ==  0 else 0 )\n",
    "data['canceled_pos']  = (data['pre_not_cancel'] - data['pre_cancel']).apply(lambda x:1 if x > 0 else 0 )"
   ]
  },
  {
   "cell_type": "code",
   "execution_count": 30,
   "metadata": {},
   "outputs": [],
   "source": [
    "# reserved_room_tpye & assigned_room_type\n",
    "data['rm_change'] = data.apply(lambda x: 1 if x['reserved_room_type'] != x['assigned_room_type'] else 0, axis = 1)"
   ]
  },
  {
   "cell_type": "code",
   "execution_count": 31,
   "metadata": {},
   "outputs": [],
   "source": [
    "# reserved_room_type\n",
    "data['R_room_ty_A'] =data['reserved_room_type'].apply(lambda x:1 if x == \"A\" else 0)\n",
    "data['R_room_ty_B'] = data['reserved_room_type'].apply(lambda x:1 if x == \"B\" else 0)\n",
    "data['R_room_ty_C'] = data['reserved_room_type'].apply(lambda x:1 if x == \"C\" else 0)\n",
    "data['R_room_ty_D'] = data['reserved_room_type'].apply(lambda x:1 if x == \"D\" else 0)\n",
    "data['R_room_ty_E'] = data['reserved_room_type'].apply(lambda x:1 if x == \"E\" else 0)\n",
    "data['R_room_ty_F'] = data['reserved_room_type'].apply(lambda x:1 if x == \"F\" else 0)\n",
    "data['R_room_ty_G'] = data['reserved_room_type'].apply(lambda x:1 if x == \"G\" else 0)\n",
    "data['R_room_ty_H'] = data['reserved_room_type'].apply(lambda x:1 if x == \"H\" else 0)\n",
    "data['R_room_ty_P'] = data['reserved_room_type'].apply(lambda x:1 if x == \"P\" else 0)\n",
    "data['R_room_ty_L'] = data['reserved_room_type'].apply(lambda x:1 if x == \"L\" else 0)\n",
    "data = data.drop('reserved_room_type', axis = 1)"
   ]
  },
  {
   "cell_type": "code",
   "execution_count": 32,
   "metadata": {},
   "outputs": [],
   "source": [
    "# assigned_room_type\n",
    "data['A_room_ty_A'] = data['assigned_room_type'].apply(lambda x:1 if x == \"A\" else 0)\n",
    "data['A_room_ty_B'] = data['assigned_room_type'].apply(lambda x:1 if x == \"B\" else 0)\n",
    "data['A_room_ty_C'] = data['assigned_room_type'].apply(lambda x:1 if x == \"C\" else 0)\n",
    "data['A_room_ty_D'] = data['assigned_room_type'].apply(lambda x:1 if x == \"D\" else 0)\n",
    "data['A_room_ty_E'] = data['assigned_room_type'].apply(lambda x:1 if x == \"E\" else 0)\n",
    "data['A_room_ty_F'] = data['assigned_room_type'].apply(lambda x:1 if x == \"F\" else 0)\n",
    "data['A_room_ty_G'] = data['assigned_room_type'].apply(lambda x:1 if x == \"G\" else 0)\n",
    "data['A_room_ty_H'] = data['assigned_room_type'].apply(lambda x:1 if x == \"H\" else 0)\n",
    "data['A_room_ty_I'] = data['assigned_room_type'].apply(lambda x:1 if x == \"I\" else 0)\n",
    "data['A_room_ty_K'] = data['assigned_room_type'].apply(lambda x:1 if x == \"K\" else 0)\n",
    "data['A_room_ty_P'] = data['assigned_room_type'].apply(lambda x:1 if x == \"P\" else 0)\n",
    "\n",
    "data = data.drop('assigned_room_type', axis = 1)"
   ]
  },
  {
   "cell_type": "code",
   "execution_count": 33,
   "metadata": {},
   "outputs": [],
   "source": [
    "# booking_change\n",
    "data['booking_ch_0'] = data['booking_changes'].apply(lambda x: 1 if x == 0 else 0)\n",
    "\n",
    "data['booking_ch_1'] = data['booking_changes'].apply(lambda x: 1 if x == 1 else 0)\n",
    "data['booking_ch_2'] = data['booking_changes'].apply(lambda x: 1 if x == 2 else 0)\n",
    "data['booking_ch_3'] = data['booking_changes'].apply(lambda x: 1 if x == 3 else 0)\n",
    "data['booking_ch_4'] = data['booking_changes'].apply(lambda x: 1 if x == 4 else 0)\n",
    "data['booking_ch_5'] = data['booking_changes'].apply(lambda x: 1 if x == 5 else 0)\n",
    "\n",
    "data['booking_ch_6'] = data['booking_changes'].apply(lambda x: 1 if x >= 6 else 0)"
   ]
  },
  {
   "cell_type": "code",
   "execution_count": null,
   "metadata": {},
   "outputs": [],
   "source": []
  },
  {
   "cell_type": "code",
   "execution_count": null,
   "metadata": {},
   "outputs": [],
   "source": []
  },
  {
   "cell_type": "code",
   "execution_count": 34,
   "metadata": {},
   "outputs": [],
   "source": [
    "#deposit\n",
    "data['No_Dp'] = data['deposit'].apply(lambda x: 1 if x== 'No Deposit' else 0)\n",
    "data['Non_Rf'] = data['deposit'].apply(lambda x: 1 if x== 'Non_Refund' else 0)\n",
    "data['Rf'] = data['deposit'].apply(lambda x: 1 if x== 'Refundable' else 0)\n",
    "data = data.drop('deposit', axis = 1)"
   ]
  },
  {
   "cell_type": "code",
   "execution_count": 35,
   "metadata": {},
   "outputs": [],
   "source": [
    "#days_in_basket\n",
    "data['basket_N'] = data['days_in_basket'].apply(lambda x: 1 if x == 0 else 0)"
   ]
  },
  {
   "cell_type": "code",
   "execution_count": 36,
   "metadata": {},
   "outputs": [],
   "source": [
    "data['basket_0110'] = data['days_in_basket'].apply(lambda x: 1 if x >=1 and x < 11 else 0)\n",
    "data['basket_1020'] = data['days_in_basket'].apply(lambda x: 1 if x >=11 and x < 20 else 0)\n",
    "data['basket_2030'] = data['days_in_basket'].apply(lambda x: 1 if x >=21 else 0)"
   ]
  },
  {
   "cell_type": "code",
   "execution_count": 37,
   "metadata": {},
   "outputs": [],
   "source": [
    "# customer_tpye\n",
    "data['cust_Tr'] = data['customer_type'].apply(lambda x: 1 if x == 'Transient' else 0)\n",
    "data['cust_Tr&P'] = data['customer_type'].apply(lambda x: 1 if x == 'Transient-Party' else 0)\n",
    "data['cust_Con'] = data['customer_type'].apply(lambda x: 1 if x == 'Contract' else 0)\n",
    "data['cust_Gr'] = data['customer_type'].apply(lambda x: 1 if x == 'Group' else 0)\n",
    "data = data.drop('customer_type', axis = 1)"
   ]
  },
  {
   "cell_type": "code",
   "execution_count": 38,
   "metadata": {},
   "outputs": [],
   "source": [
    "# required_parking\n",
    "data['parking'] = data['required_parking'].apply(lambda x: 1 if x >= 1 else 0)\n",
    "data = data.drop('required_parking', axis = 1)"
   ]
  },
  {
   "cell_type": "code",
   "execution_count": 39,
   "metadata": {},
   "outputs": [],
   "source": [
    "# number_of_requests\n",
    "data['request_0'] = data['number_of_requests'].apply(lambda x: 1 if x == 0 else 0)\n",
    "data['request_1'] = data['number_of_requests'].apply(lambda x: 1 if x == 1 else 0)\n",
    "data['request_2'] = data['number_of_requests'].apply(lambda x: 1 if x == 2 else 0)\n",
    "data['request_3'] = data['number_of_requests'].apply(lambda x: 1 if x == 3 else 0)\n",
    "data['request_4'] = data['number_of_requests'].apply(lambda x: 1 if x >= 4 else 0)"
   ]
  },
  {
   "cell_type": "markdown",
   "metadata": {},
   "source": [
    "## Data 이상치"
   ]
  },
  {
   "cell_type": "code",
   "execution_count": 40,
   "metadata": {},
   "outputs": [
    {
     "name": "stdout",
     "output_type": "stream",
     "text": [
      "<class 'pandas.core.frame.DataFrame'>\n",
      "Int64Index: 119390 entries, 0 to 119389\n",
      "Columns: 159 entries, is_canceled to request_4\n",
      "dtypes: float64(1), int32(2), int64(156)\n",
      "memory usage: 144.8 MB\n"
     ]
    }
   ],
   "source": [
    "data.info()"
   ]
  },
  {
   "cell_type": "code",
   "execution_count": 41,
   "metadata": {},
   "outputs": [
    {
     "data": {
      "text/html": [
       "<div>\n",
       "<style scoped>\n",
       "    .dataframe tbody tr th:only-of-type {\n",
       "        vertical-align: middle;\n",
       "    }\n",
       "\n",
       "    .dataframe tbody tr th {\n",
       "        vertical-align: top;\n",
       "    }\n",
       "\n",
       "    .dataframe thead th {\n",
       "        text-align: right;\n",
       "    }\n",
       "</style>\n",
       "<table border=\"1\" class=\"dataframe\">\n",
       "  <thead>\n",
       "    <tr style=\"text-align: right;\">\n",
       "      <th></th>\n",
       "      <th>lead_time</th>\n",
       "      <th>week_number</th>\n",
       "      <th>day</th>\n",
       "      <th>stays_in_weekend</th>\n",
       "      <th>stays_in_week</th>\n",
       "      <th>pre_cancel</th>\n",
       "      <th>pre_not_cancel</th>\n",
       "      <th>booking_changes</th>\n",
       "    </tr>\n",
       "  </thead>\n",
       "  <tbody>\n",
       "    <tr>\n",
       "      <td>count</td>\n",
       "      <td>119390.000000</td>\n",
       "      <td>119390.000000</td>\n",
       "      <td>119390.000000</td>\n",
       "      <td>119390.000000</td>\n",
       "      <td>119390.000000</td>\n",
       "      <td>119390.000000</td>\n",
       "      <td>119390.000000</td>\n",
       "      <td>119390.000000</td>\n",
       "    </tr>\n",
       "    <tr>\n",
       "      <td>mean</td>\n",
       "      <td>104.011416</td>\n",
       "      <td>27.165173</td>\n",
       "      <td>15.798241</td>\n",
       "      <td>0.927599</td>\n",
       "      <td>2.500302</td>\n",
       "      <td>0.087118</td>\n",
       "      <td>0.137097</td>\n",
       "      <td>0.221124</td>\n",
       "    </tr>\n",
       "    <tr>\n",
       "      <td>std</td>\n",
       "      <td>106.863097</td>\n",
       "      <td>13.605138</td>\n",
       "      <td>8.780829</td>\n",
       "      <td>0.998613</td>\n",
       "      <td>1.908286</td>\n",
       "      <td>0.844336</td>\n",
       "      <td>1.497437</td>\n",
       "      <td>0.652306</td>\n",
       "    </tr>\n",
       "    <tr>\n",
       "      <td>min</td>\n",
       "      <td>0.000000</td>\n",
       "      <td>1.000000</td>\n",
       "      <td>1.000000</td>\n",
       "      <td>0.000000</td>\n",
       "      <td>0.000000</td>\n",
       "      <td>0.000000</td>\n",
       "      <td>0.000000</td>\n",
       "      <td>0.000000</td>\n",
       "    </tr>\n",
       "    <tr>\n",
       "      <td>25%</td>\n",
       "      <td>18.000000</td>\n",
       "      <td>16.000000</td>\n",
       "      <td>8.000000</td>\n",
       "      <td>0.000000</td>\n",
       "      <td>1.000000</td>\n",
       "      <td>0.000000</td>\n",
       "      <td>0.000000</td>\n",
       "      <td>0.000000</td>\n",
       "    </tr>\n",
       "    <tr>\n",
       "      <td>50%</td>\n",
       "      <td>69.000000</td>\n",
       "      <td>28.000000</td>\n",
       "      <td>16.000000</td>\n",
       "      <td>1.000000</td>\n",
       "      <td>2.000000</td>\n",
       "      <td>0.000000</td>\n",
       "      <td>0.000000</td>\n",
       "      <td>0.000000</td>\n",
       "    </tr>\n",
       "    <tr>\n",
       "      <td>75%</td>\n",
       "      <td>160.000000</td>\n",
       "      <td>38.000000</td>\n",
       "      <td>23.000000</td>\n",
       "      <td>2.000000</td>\n",
       "      <td>3.000000</td>\n",
       "      <td>0.000000</td>\n",
       "      <td>0.000000</td>\n",
       "      <td>0.000000</td>\n",
       "    </tr>\n",
       "    <tr>\n",
       "      <td>max</td>\n",
       "      <td>737.000000</td>\n",
       "      <td>53.000000</td>\n",
       "      <td>31.000000</td>\n",
       "      <td>19.000000</td>\n",
       "      <td>50.000000</td>\n",
       "      <td>26.000000</td>\n",
       "      <td>72.000000</td>\n",
       "      <td>21.000000</td>\n",
       "    </tr>\n",
       "  </tbody>\n",
       "</table>\n",
       "</div>"
      ],
      "text/plain": [
       "           lead_time    week_number            day  stays_in_weekend  \\\n",
       "count  119390.000000  119390.000000  119390.000000     119390.000000   \n",
       "mean      104.011416      27.165173      15.798241          0.927599   \n",
       "std       106.863097      13.605138       8.780829          0.998613   \n",
       "min         0.000000       1.000000       1.000000          0.000000   \n",
       "25%        18.000000      16.000000       8.000000          0.000000   \n",
       "50%        69.000000      28.000000      16.000000          1.000000   \n",
       "75%       160.000000      38.000000      23.000000          2.000000   \n",
       "max       737.000000      53.000000      31.000000         19.000000   \n",
       "\n",
       "       stays_in_week     pre_cancel  pre_not_cancel  booking_changes  \n",
       "count  119390.000000  119390.000000   119390.000000    119390.000000  \n",
       "mean        2.500302       0.087118        0.137097         0.221124  \n",
       "std         1.908286       0.844336        1.497437         0.652306  \n",
       "min         0.000000       0.000000        0.000000         0.000000  \n",
       "25%         1.000000       0.000000        0.000000         0.000000  \n",
       "50%         2.000000       0.000000        0.000000         0.000000  \n",
       "75%         3.000000       0.000000        0.000000         0.000000  \n",
       "max        50.000000      26.000000       72.000000        21.000000  "
      ]
     },
     "execution_count": 41,
     "metadata": {},
     "output_type": "execute_result"
    }
   ],
   "source": [
    "data[['lead_time', 'week_number', 'day', 'stays_in_weekend', 'stays_in_week',\n",
    "     'pre_cancel', 'pre_not_cancel', 'booking_changes']].describe()"
   ]
  },
  {
   "cell_type": "code",
   "execution_count": null,
   "metadata": {},
   "outputs": [],
   "source": []
  },
  {
   "cell_type": "markdown",
   "metadata": {},
   "source": [
    "# Train and  Test Set"
   ]
  },
  {
   "cell_type": "code",
   "execution_count": 42,
   "metadata": {},
   "outputs": [],
   "source": [
    "train = data.query('is_canceled != 3')\n",
    "test = data.query('is_canceled == 3')\n",
    "test = test.drop('is_canceled', axis = 1)"
   ]
  },
  {
   "cell_type": "markdown",
   "metadata": {},
   "source": [
    "## Test Set 생성"
   ]
  },
  {
   "cell_type": "code",
   "execution_count": 43,
   "metadata": {},
   "outputs": [],
   "source": [
    "from sklearn.model_selection import train_test_split"
   ]
  },
  {
   "cell_type": "code",
   "execution_count": 44,
   "metadata": {},
   "outputs": [],
   "source": [
    "np.random.seed(123)\n",
    "target = train.is_canceled\n",
    "data_set = train.drop(columns='is_canceled', axis = 1)\n",
    "x_train, x_test, y_train, y_test = train_test_split(data_set, target, test_size=0.3,\n",
    "                                                   stratify=target)"
   ]
  },
  {
   "cell_type": "code",
   "execution_count": null,
   "metadata": {},
   "outputs": [],
   "source": []
  },
  {
   "cell_type": "code",
   "execution_count": null,
   "metadata": {},
   "outputs": [],
   "source": []
  },
  {
   "cell_type": "markdown",
   "metadata": {},
   "source": [
    "## GridSearch Pipeline"
   ]
  },
  {
   "cell_type": "code",
   "execution_count": 45,
   "metadata": {},
   "outputs": [],
   "source": [
    "from sklearn.preprocessing import StandardScaler, MinMaxScaler\n",
    "from xgboost import XGBClassifier\n",
    "from sklearn.linear_model import LogisticRegression\n",
    "from sklearn.tree import DecisionTreeClassifier\n",
    "from sklearn.neighbors import KNeighborsClassifier\n",
    "from sklearn.ensemble import RandomForestClassifier\n",
    "from sklearn.ensemble import AdaBoostClassifier\n",
    "from sklearn.ensemble import GradientBoostingClassifier\n",
    "from sklearn.pipeline import Pipeline\n",
    "from sklearn.metrics import roc_auc_score"
   ]
  },
  {
   "cell_type": "markdown",
   "metadata": {},
   "source": [
    "## xgb"
   ]
  },
  {
   "cell_type": "code",
   "execution_count": 46,
   "metadata": {},
   "outputs": [],
   "source": [
    "pipe_xgb = Pipeline([('알고리즘',XGBClassifier())])"
   ]
  },
  {
   "cell_type": "code",
   "execution_count": 47,
   "metadata": {},
   "outputs": [],
   "source": [
    "param_xgb = [\n",
    "    {'알고리즘':[XGBClassifier()],\n",
    "     '알고리즘__learning_rate': [0.01, 0.1],\n",
    "     '알고리즘__n_estimators':[ 900, 1000, 1200, 1500],\n",
    "     '알고리즘__max_depth': np.arange(17,26)}]"
   ]
  },
  {
   "cell_type": "code",
   "execution_count": null,
   "metadata": {},
   "outputs": [
    {
     "name": "stdout",
     "output_type": "stream",
     "text": [
      "Fitting 4 folds for each of 50 candidates, totalling 200 fits\n"
     ]
    },
    {
     "name": "stderr",
     "output_type": "stream",
     "text": [
      "[Parallel(n_jobs=-1)]: Using backend LokyBackend with 4 concurrent workers.\n"
     ]
    }
   ],
   "source": [
    "from sklearn.model_selection import RandomizedSearchCV\n",
    "xgb = RandomizedSearchCV(pipe_xgb, param_xgb, n_iter=50,\n",
    "                             scoring='roc_auc',cv=4, n_jobs=-1, verbose=1)\n",
    "xgb.fit(x_train,y_train)"
   ]
  },
  {
   "cell_type": "code",
   "execution_count": null,
   "metadata": {},
   "outputs": [],
   "source": [
    "xgb.best_params_"
   ]
  },
  {
   "cell_type": "code",
   "execution_count": null,
   "metadata": {},
   "outputs": [],
   "source": [
    "pred = xgb.predict_proba(x_test)[:,1]\n",
    "roc_auc_score(y_test, pred)"
   ]
  },
  {
   "cell_type": "code",
   "execution_count": null,
   "metadata": {},
   "outputs": [],
   "source": []
  },
  {
   "cell_type": "markdown",
   "metadata": {},
   "source": [
    "## Random Forest"
   ]
  },
  {
   "cell_type": "code",
   "execution_count": null,
   "metadata": {},
   "outputs": [],
   "source": [
    "pipe_rf = Pipeline([('알고리즘',RandomForestClassifier())])"
   ]
  },
  {
   "cell_type": "code",
   "execution_count": null,
   "metadata": {},
   "outputs": [],
   "source": [
    "param_rf = [\n",
    "    {'알고리즘':[RandomForestClassifier()],\n",
    "     '알고리즘__max_depth': np.arange(20,31),\n",
    "     '알고리즘__n_estimators':[800, 900, 1000, 1200, 1500]}]"
   ]
  },
  {
   "cell_type": "code",
   "execution_count": null,
   "metadata": {},
   "outputs": [],
   "source": [
    "from sklearn.model_selection import RandomizedSearchCV\n",
    "rf = RandomizedSearchCV(pipe_rf, param_rf, n_iter=60,\n",
    "                             scoring='roc_auc',cv=4, n_jobs=-1, verbose=1)\n",
    "rf.fit(x_train,y_train)"
   ]
  },
  {
   "cell_type": "code",
   "execution_count": null,
   "metadata": {},
   "outputs": [],
   "source": [
    "rf.best_params_"
   ]
  },
  {
   "cell_type": "code",
   "execution_count": null,
   "metadata": {},
   "outputs": [],
   "source": [
    "pred = rf.predict_proba(x_test)[:,1]\n",
    "roc_auc_score(y_test, pred)"
   ]
  },
  {
   "cell_type": "code",
   "execution_count": null,
   "metadata": {},
   "outputs": [],
   "source": []
  },
  {
   "cell_type": "markdown",
   "metadata": {},
   "source": [
    "## Gradient Boost"
   ]
  },
  {
   "cell_type": "code",
   "execution_count": null,
   "metadata": {},
   "outputs": [],
   "source": [
    "pipe_gb = Pipeline([('알고리즘',GradientBoostingClassifier())])"
   ]
  },
  {
   "cell_type": "code",
   "execution_count": null,
   "metadata": {},
   "outputs": [],
   "source": [
    "param_gb = [\n",
    "    {'알고리즘':[GradientBoostingClassifier()],\n",
    "     '알고리즘__max_depth': np.arange(5,21),\n",
    "     '알고리즘__n_estimators':[100, 200, 300, 400, 500]}]"
   ]
  },
  {
   "cell_type": "code",
   "execution_count": null,
   "metadata": {},
   "outputs": [],
   "source": [
    "from sklearn.model_selection import RandomizedSearchCV\n",
    "gb = RandomizedSearchCV(pipe_gb, param_gb, n_iter=60,\n",
    "                             scoring='roc_auc',cv=4, n_jobs=-1, verbose=1)\n",
    "gb.fit(x_train,y_train)"
   ]
  },
  {
   "cell_type": "code",
   "execution_count": null,
   "metadata": {},
   "outputs": [],
   "source": [
    "gb.best_params_"
   ]
  },
  {
   "cell_type": "code",
   "execution_count": null,
   "metadata": {},
   "outputs": [],
   "source": []
  },
  {
   "cell_type": "code",
   "execution_count": null,
   "metadata": {},
   "outputs": [],
   "source": []
  },
  {
   "cell_type": "code",
   "execution_count": null,
   "metadata": {},
   "outputs": [],
   "source": []
  },
  {
   "cell_type": "markdown",
   "metadata": {},
   "source": [
    "## Voting"
   ]
  },
  {
   "cell_type": "markdown",
   "metadata": {},
   "source": [
    "### 1. Voting에 사용될 알고리즘 최적의 파라미터로 Fitting"
   ]
  },
  {
   "cell_type": "code",
   "execution_count": null,
   "metadata": {},
   "outputs": [],
   "source": [
    "from sklearn.ensemble import VotingClassifier\n",
    "from sklearn.preprocessing import StandardScaler"
   ]
  },
  {
   "cell_type": "code",
   "execution_count": null,
   "metadata": {},
   "outputs": [],
   "source": [
    "#xgb = XGBClassifier(n_estimators = 800, max_depth = 18, learning_rate = 0.01, objective='binary:logistic') #standard Scaler\n",
    "#evals = [(x_test, y_test)]\n",
    "\n",
    "#rf = RandomForestClassifier(n_estimators = 800, max_depth = 25) # None\n",
    "\n",
    "#lr = LogisticRegression(C = 1) # Standard Scaler\n",
    "\n",
    "#dt = DecisionTreeClassifier(max_depth = 12) #Standard Scaler\n",
    "\n",
    "#ab = AdaBoostClassifier(learning_rate = 1, n_estimators = 800) #Standard Scaler\n",
    "\n",
    "#kn = KNeighborsClassifier(n_neighbors = 13)\n",
    "\n",
    "#gb = GradientBoostingClassifier(n_estimators = 200, max_depth = 11) # 미정\n"
   ]
  },
  {
   "cell_type": "code",
   "execution_count": null,
   "metadata": {
    "scrolled": true
   },
   "outputs": [],
   "source": [
    "#xgb.fit(x_train, y_train, eval_metric='auc', eval_set=evals,\n",
    "#        early_stopping_rounds=100, verbose=True)\n",
    "#rf.fit(x_train, y_train)\n",
    "#lr.fit(x_train, y_train)\n",
    "#dt.fit(x_train, y_train)\n",
    "#ab.fit(x_train, y_train)\n",
    "#kn.fit(x_train, y_train)\n",
    "#gb.fit(x_train, y_train)"
   ]
  },
  {
   "cell_type": "code",
   "execution_count": null,
   "metadata": {},
   "outputs": [],
   "source": []
  },
  {
   "cell_type": "markdown",
   "metadata": {},
   "source": [
    "## RandomForest"
   ]
  },
  {
   "cell_type": "code",
   "execution_count": 135,
   "metadata": {},
   "outputs": [
    {
     "data": {
      "text/plain": [
       "RandomForestClassifier(max_depth=27, n_estimators=1500)"
      ]
     },
     "execution_count": 135,
     "metadata": {},
     "output_type": "execute_result"
    }
   ],
   "source": [
    "rf = RandomForestClassifier(n_estimators = 1500, max_depth = 27 )\n",
    "rf.fit(x_train, y_train)"
   ]
  },
  {
   "cell_type": "code",
   "execution_count": 136,
   "metadata": {},
   "outputs": [
    {
     "data": {
      "text/plain": [
       "0.9489057344926393"
      ]
     },
     "execution_count": 136,
     "metadata": {},
     "output_type": "execute_result"
    }
   ],
   "source": [
    "pred = rf.predict_proba(x_test)[:,1]\n",
    "roc_auc_score(y_test, pred)"
   ]
  },
  {
   "cell_type": "code",
   "execution_count": 128,
   "metadata": {},
   "outputs": [],
   "source": [
    "result['is_canceled'] = rf.predict_proba(test)[:,1]\n",
    "result.to_csv('rf2.csv', index = False)"
   ]
  },
  {
   "cell_type": "code",
   "execution_count": null,
   "metadata": {},
   "outputs": [],
   "source": []
  },
  {
   "cell_type": "code",
   "execution_count": null,
   "metadata": {},
   "outputs": [],
   "source": []
  },
  {
   "cell_type": "markdown",
   "metadata": {},
   "source": [
    "## XGBooster"
   ]
  },
  {
   "cell_type": "code",
   "execution_count": 97,
   "metadata": {},
   "outputs": [],
   "source": [
    "xgb = XGBClassifier(n_estimators = 1000, max_depth = 25, learning_rate = 0.01, objective='binary:logistic') #standard Scaler\n",
    "evals = [(x_test, y_test)]"
   ]
  },
  {
   "cell_type": "code",
   "execution_count": 98,
   "metadata": {
    "scrolled": true
   },
   "outputs": [
    {
     "name": "stdout",
     "output_type": "stream",
     "text": [
      "[0]\tvalidation_0-auc:0.92744\n",
      "Will train until validation_0-auc hasn't improved in 100 rounds.\n",
      "[1]\tvalidation_0-auc:0.92839\n",
      "[2]\tvalidation_0-auc:0.92867\n",
      "[3]\tvalidation_0-auc:0.92872\n",
      "[4]\tvalidation_0-auc:0.92865\n",
      "[5]\tvalidation_0-auc:0.92880\n",
      "[6]\tvalidation_0-auc:0.92890\n",
      "[7]\tvalidation_0-auc:0.93022\n",
      "[8]\tvalidation_0-auc:0.93099\n",
      "[9]\tvalidation_0-auc:0.93134\n",
      "[10]\tvalidation_0-auc:0.93191\n",
      "[11]\tvalidation_0-auc:0.93213\n",
      "[12]\tvalidation_0-auc:0.93255\n",
      "[13]\tvalidation_0-auc:0.93288\n",
      "[14]\tvalidation_0-auc:0.93316\n",
      "[15]\tvalidation_0-auc:0.93344\n",
      "[16]\tvalidation_0-auc:0.93360\n",
      "[17]\tvalidation_0-auc:0.93376\n",
      "[18]\tvalidation_0-auc:0.93387\n",
      "[19]\tvalidation_0-auc:0.93402\n",
      "[20]\tvalidation_0-auc:0.93415\n",
      "[21]\tvalidation_0-auc:0.93432\n",
      "[22]\tvalidation_0-auc:0.93451\n",
      "[23]\tvalidation_0-auc:0.93462\n",
      "[24]\tvalidation_0-auc:0.93482\n",
      "[25]\tvalidation_0-auc:0.93491\n",
      "[26]\tvalidation_0-auc:0.93503\n",
      "[27]\tvalidation_0-auc:0.93523\n",
      "[28]\tvalidation_0-auc:0.93536\n",
      "[29]\tvalidation_0-auc:0.93545\n",
      "[30]\tvalidation_0-auc:0.93557\n",
      "[31]\tvalidation_0-auc:0.93573\n",
      "[32]\tvalidation_0-auc:0.93578\n",
      "[33]\tvalidation_0-auc:0.93590\n",
      "[34]\tvalidation_0-auc:0.93603\n",
      "[35]\tvalidation_0-auc:0.93613\n",
      "[36]\tvalidation_0-auc:0.93624\n",
      "[37]\tvalidation_0-auc:0.93635\n",
      "[38]\tvalidation_0-auc:0.93645\n",
      "[39]\tvalidation_0-auc:0.93653\n",
      "[40]\tvalidation_0-auc:0.93666\n",
      "[41]\tvalidation_0-auc:0.93675\n",
      "[42]\tvalidation_0-auc:0.93688\n",
      "[43]\tvalidation_0-auc:0.93698\n",
      "[44]\tvalidation_0-auc:0.93708\n",
      "[45]\tvalidation_0-auc:0.93717\n",
      "[46]\tvalidation_0-auc:0.93730\n",
      "[47]\tvalidation_0-auc:0.93738\n",
      "[48]\tvalidation_0-auc:0.93752\n",
      "[49]\tvalidation_0-auc:0.93760\n",
      "[50]\tvalidation_0-auc:0.93775\n",
      "[51]\tvalidation_0-auc:0.93781\n",
      "[52]\tvalidation_0-auc:0.93790\n",
      "[53]\tvalidation_0-auc:0.93804\n",
      "[54]\tvalidation_0-auc:0.93816\n",
      "[55]\tvalidation_0-auc:0.93822\n",
      "[56]\tvalidation_0-auc:0.93835\n",
      "[57]\tvalidation_0-auc:0.93863\n",
      "[58]\tvalidation_0-auc:0.93883\n",
      "[59]\tvalidation_0-auc:0.93902\n",
      "[60]\tvalidation_0-auc:0.93918\n",
      "[61]\tvalidation_0-auc:0.93931\n",
      "[62]\tvalidation_0-auc:0.93944\n",
      "[63]\tvalidation_0-auc:0.93956\n",
      "[64]\tvalidation_0-auc:0.93968\n",
      "[65]\tvalidation_0-auc:0.93977\n",
      "[66]\tvalidation_0-auc:0.93986\n",
      "[67]\tvalidation_0-auc:0.93994\n",
      "[68]\tvalidation_0-auc:0.94003\n",
      "[69]\tvalidation_0-auc:0.94009\n",
      "[70]\tvalidation_0-auc:0.94018\n",
      "[71]\tvalidation_0-auc:0.94025\n",
      "[72]\tvalidation_0-auc:0.94032\n",
      "[73]\tvalidation_0-auc:0.94039\n",
      "[74]\tvalidation_0-auc:0.94045\n",
      "[75]\tvalidation_0-auc:0.94052\n",
      "[76]\tvalidation_0-auc:0.94056\n",
      "[77]\tvalidation_0-auc:0.94062\n",
      "[78]\tvalidation_0-auc:0.94067\n",
      "[79]\tvalidation_0-auc:0.94072\n",
      "[80]\tvalidation_0-auc:0.94077\n",
      "[81]\tvalidation_0-auc:0.94080\n",
      "[82]\tvalidation_0-auc:0.94083\n",
      "[83]\tvalidation_0-auc:0.94086\n",
      "[84]\tvalidation_0-auc:0.94090\n",
      "[85]\tvalidation_0-auc:0.94094\n",
      "[86]\tvalidation_0-auc:0.94101\n",
      "[87]\tvalidation_0-auc:0.94107\n",
      "[88]\tvalidation_0-auc:0.94109\n",
      "[89]\tvalidation_0-auc:0.94115\n",
      "[90]\tvalidation_0-auc:0.94118\n",
      "[91]\tvalidation_0-auc:0.94121\n",
      "[92]\tvalidation_0-auc:0.94125\n",
      "[93]\tvalidation_0-auc:0.94128\n",
      "[94]\tvalidation_0-auc:0.94131\n",
      "[95]\tvalidation_0-auc:0.94134\n",
      "[96]\tvalidation_0-auc:0.94136\n",
      "[97]\tvalidation_0-auc:0.94139\n",
      "[98]\tvalidation_0-auc:0.94141\n",
      "[99]\tvalidation_0-auc:0.94144\n",
      "[100]\tvalidation_0-auc:0.94147\n",
      "[101]\tvalidation_0-auc:0.94148\n",
      "[102]\tvalidation_0-auc:0.94150\n",
      "[103]\tvalidation_0-auc:0.94155\n",
      "[104]\tvalidation_0-auc:0.94157\n",
      "[105]\tvalidation_0-auc:0.94160\n",
      "[106]\tvalidation_0-auc:0.94163\n",
      "[107]\tvalidation_0-auc:0.94165\n",
      "[108]\tvalidation_0-auc:0.94167\n",
      "[109]\tvalidation_0-auc:0.94169\n",
      "[110]\tvalidation_0-auc:0.94170\n",
      "[111]\tvalidation_0-auc:0.94173\n",
      "[112]\tvalidation_0-auc:0.94175\n",
      "[113]\tvalidation_0-auc:0.94178\n",
      "[114]\tvalidation_0-auc:0.94181\n",
      "[115]\tvalidation_0-auc:0.94184\n",
      "[116]\tvalidation_0-auc:0.94186\n",
      "[117]\tvalidation_0-auc:0.94189\n",
      "[118]\tvalidation_0-auc:0.94193\n",
      "[119]\tvalidation_0-auc:0.94195\n",
      "[120]\tvalidation_0-auc:0.94199\n",
      "[121]\tvalidation_0-auc:0.94204\n",
      "[122]\tvalidation_0-auc:0.94212\n",
      "[123]\tvalidation_0-auc:0.94220\n",
      "[124]\tvalidation_0-auc:0.94227\n",
      "[125]\tvalidation_0-auc:0.94234\n",
      "[126]\tvalidation_0-auc:0.94241\n",
      "[127]\tvalidation_0-auc:0.94246\n",
      "[128]\tvalidation_0-auc:0.94250\n",
      "[129]\tvalidation_0-auc:0.94257\n",
      "[130]\tvalidation_0-auc:0.94264\n",
      "[131]\tvalidation_0-auc:0.94270\n",
      "[132]\tvalidation_0-auc:0.94274\n",
      "[133]\tvalidation_0-auc:0.94279\n",
      "[134]\tvalidation_0-auc:0.94281\n",
      "[135]\tvalidation_0-auc:0.94285\n",
      "[136]\tvalidation_0-auc:0.94288\n",
      "[137]\tvalidation_0-auc:0.94294\n",
      "[138]\tvalidation_0-auc:0.94299\n",
      "[139]\tvalidation_0-auc:0.94301\n",
      "[140]\tvalidation_0-auc:0.94305\n",
      "[141]\tvalidation_0-auc:0.94307\n",
      "[142]\tvalidation_0-auc:0.94310\n",
      "[143]\tvalidation_0-auc:0.94313\n",
      "[144]\tvalidation_0-auc:0.94316\n",
      "[145]\tvalidation_0-auc:0.94319\n",
      "[146]\tvalidation_0-auc:0.94322\n",
      "[147]\tvalidation_0-auc:0.94326\n",
      "[148]\tvalidation_0-auc:0.94329\n",
      "[149]\tvalidation_0-auc:0.94333\n",
      "[150]\tvalidation_0-auc:0.94336\n",
      "[151]\tvalidation_0-auc:0.94339\n",
      "[152]\tvalidation_0-auc:0.94343\n",
      "[153]\tvalidation_0-auc:0.94346\n",
      "[154]\tvalidation_0-auc:0.94349\n",
      "[155]\tvalidation_0-auc:0.94351\n",
      "[156]\tvalidation_0-auc:0.94354\n",
      "[157]\tvalidation_0-auc:0.94356\n",
      "[158]\tvalidation_0-auc:0.94358\n",
      "[159]\tvalidation_0-auc:0.94366\n",
      "[160]\tvalidation_0-auc:0.94368\n",
      "[161]\tvalidation_0-auc:0.94371\n",
      "[162]\tvalidation_0-auc:0.94372\n",
      "[163]\tvalidation_0-auc:0.94374\n",
      "[164]\tvalidation_0-auc:0.94377\n",
      "[165]\tvalidation_0-auc:0.94380\n",
      "[166]\tvalidation_0-auc:0.94383\n",
      "[167]\tvalidation_0-auc:0.94385\n",
      "[168]\tvalidation_0-auc:0.94388\n",
      "[169]\tvalidation_0-auc:0.94391\n",
      "[170]\tvalidation_0-auc:0.94394\n",
      "[171]\tvalidation_0-auc:0.94399\n",
      "[172]\tvalidation_0-auc:0.94402\n",
      "[173]\tvalidation_0-auc:0.94405\n",
      "[174]\tvalidation_0-auc:0.94409\n",
      "[175]\tvalidation_0-auc:0.94411\n",
      "[176]\tvalidation_0-auc:0.94414\n",
      "[177]\tvalidation_0-auc:0.94417\n",
      "[178]\tvalidation_0-auc:0.94420\n",
      "[179]\tvalidation_0-auc:0.94423\n",
      "[180]\tvalidation_0-auc:0.94425\n",
      "[181]\tvalidation_0-auc:0.94427\n",
      "[182]\tvalidation_0-auc:0.94430\n",
      "[183]\tvalidation_0-auc:0.94433\n",
      "[184]\tvalidation_0-auc:0.94436\n",
      "[185]\tvalidation_0-auc:0.94440\n",
      "[186]\tvalidation_0-auc:0.94442\n",
      "[187]\tvalidation_0-auc:0.94444\n",
      "[188]\tvalidation_0-auc:0.94447\n",
      "[189]\tvalidation_0-auc:0.94449\n",
      "[190]\tvalidation_0-auc:0.94454\n",
      "[191]\tvalidation_0-auc:0.94455\n",
      "[192]\tvalidation_0-auc:0.94458\n",
      "[193]\tvalidation_0-auc:0.94460\n",
      "[194]\tvalidation_0-auc:0.94461\n",
      "[195]\tvalidation_0-auc:0.94463\n",
      "[196]\tvalidation_0-auc:0.94465\n",
      "[197]\tvalidation_0-auc:0.94467\n",
      "[198]\tvalidation_0-auc:0.94470\n",
      "[199]\tvalidation_0-auc:0.94472\n",
      "[200]\tvalidation_0-auc:0.94475\n",
      "[201]\tvalidation_0-auc:0.94478\n",
      "[202]\tvalidation_0-auc:0.94479\n",
      "[203]\tvalidation_0-auc:0.94481\n",
      "[204]\tvalidation_0-auc:0.94482\n",
      "[205]\tvalidation_0-auc:0.94485\n",
      "[206]\tvalidation_0-auc:0.94487\n",
      "[207]\tvalidation_0-auc:0.94488\n",
      "[208]\tvalidation_0-auc:0.94491\n",
      "[209]\tvalidation_0-auc:0.94493\n",
      "[210]\tvalidation_0-auc:0.94495\n",
      "[211]\tvalidation_0-auc:0.94496\n",
      "[212]\tvalidation_0-auc:0.94498\n",
      "[213]\tvalidation_0-auc:0.94500\n",
      "[214]\tvalidation_0-auc:0.94503\n",
      "[215]\tvalidation_0-auc:0.94506\n",
      "[216]\tvalidation_0-auc:0.94507\n",
      "[217]\tvalidation_0-auc:0.94510\n",
      "[218]\tvalidation_0-auc:0.94511\n",
      "[219]\tvalidation_0-auc:0.94512\n",
      "[220]\tvalidation_0-auc:0.94514\n",
      "[221]\tvalidation_0-auc:0.94517\n",
      "[222]\tvalidation_0-auc:0.94519\n",
      "[223]\tvalidation_0-auc:0.94520\n",
      "[224]\tvalidation_0-auc:0.94522\n",
      "[225]\tvalidation_0-auc:0.94524\n",
      "[226]\tvalidation_0-auc:0.94525\n",
      "[227]\tvalidation_0-auc:0.94527\n",
      "[228]\tvalidation_0-auc:0.94529\n",
      "[229]\tvalidation_0-auc:0.94530\n",
      "[230]\tvalidation_0-auc:0.94531\n",
      "[231]\tvalidation_0-auc:0.94533\n",
      "[232]\tvalidation_0-auc:0.94535\n",
      "[233]\tvalidation_0-auc:0.94537\n",
      "[234]\tvalidation_0-auc:0.94539\n",
      "[235]\tvalidation_0-auc:0.94540\n",
      "[236]\tvalidation_0-auc:0.94542\n",
      "[237]\tvalidation_0-auc:0.94544\n",
      "[238]\tvalidation_0-auc:0.94547\n",
      "[239]\tvalidation_0-auc:0.94549\n",
      "[240]\tvalidation_0-auc:0.94550\n",
      "[241]\tvalidation_0-auc:0.94553\n",
      "[242]\tvalidation_0-auc:0.94555\n",
      "[243]\tvalidation_0-auc:0.94557\n",
      "[244]\tvalidation_0-auc:0.94559\n",
      "[245]\tvalidation_0-auc:0.94560\n",
      "[246]\tvalidation_0-auc:0.94561\n",
      "[247]\tvalidation_0-auc:0.94564\n",
      "[248]\tvalidation_0-auc:0.94565\n",
      "[249]\tvalidation_0-auc:0.94566\n",
      "[250]\tvalidation_0-auc:0.94568\n",
      "[251]\tvalidation_0-auc:0.94569\n",
      "[252]\tvalidation_0-auc:0.94570\n",
      "[253]\tvalidation_0-auc:0.94572\n",
      "[254]\tvalidation_0-auc:0.94572\n",
      "[255]\tvalidation_0-auc:0.94573\n",
      "[256]\tvalidation_0-auc:0.94575\n",
      "[257]\tvalidation_0-auc:0.94576\n",
      "[258]\tvalidation_0-auc:0.94579\n",
      "[259]\tvalidation_0-auc:0.94580\n",
      "[260]\tvalidation_0-auc:0.94582\n",
      "[261]\tvalidation_0-auc:0.94583\n",
      "[262]\tvalidation_0-auc:0.94584\n",
      "[263]\tvalidation_0-auc:0.94586\n",
      "[264]\tvalidation_0-auc:0.94588\n",
      "[265]\tvalidation_0-auc:0.94590\n"
     ]
    },
    {
     "name": "stdout",
     "output_type": "stream",
     "text": [
      "[266]\tvalidation_0-auc:0.94591\n",
      "[267]\tvalidation_0-auc:0.94592\n",
      "[268]\tvalidation_0-auc:0.94593\n",
      "[269]\tvalidation_0-auc:0.94595\n",
      "[270]\tvalidation_0-auc:0.94597\n",
      "[271]\tvalidation_0-auc:0.94598\n",
      "[272]\tvalidation_0-auc:0.94600\n",
      "[273]\tvalidation_0-auc:0.94601\n",
      "[274]\tvalidation_0-auc:0.94603\n",
      "[275]\tvalidation_0-auc:0.94605\n",
      "[276]\tvalidation_0-auc:0.94606\n",
      "[277]\tvalidation_0-auc:0.94608\n",
      "[278]\tvalidation_0-auc:0.94610\n",
      "[279]\tvalidation_0-auc:0.94611\n",
      "[280]\tvalidation_0-auc:0.94613\n",
      "[281]\tvalidation_0-auc:0.94615\n",
      "[282]\tvalidation_0-auc:0.94617\n",
      "[283]\tvalidation_0-auc:0.94619\n",
      "[284]\tvalidation_0-auc:0.94621\n",
      "[285]\tvalidation_0-auc:0.94622\n",
      "[286]\tvalidation_0-auc:0.94624\n",
      "[287]\tvalidation_0-auc:0.94626\n",
      "[288]\tvalidation_0-auc:0.94628\n",
      "[289]\tvalidation_0-auc:0.94630\n",
      "[290]\tvalidation_0-auc:0.94632\n",
      "[291]\tvalidation_0-auc:0.94634\n",
      "[292]\tvalidation_0-auc:0.94636\n",
      "[293]\tvalidation_0-auc:0.94638\n",
      "[294]\tvalidation_0-auc:0.94639\n",
      "[295]\tvalidation_0-auc:0.94641\n",
      "[296]\tvalidation_0-auc:0.94643\n",
      "[297]\tvalidation_0-auc:0.94644\n",
      "[298]\tvalidation_0-auc:0.94645\n",
      "[299]\tvalidation_0-auc:0.94647\n",
      "[300]\tvalidation_0-auc:0.94649\n",
      "[301]\tvalidation_0-auc:0.94650\n",
      "[302]\tvalidation_0-auc:0.94652\n",
      "[303]\tvalidation_0-auc:0.94653\n",
      "[304]\tvalidation_0-auc:0.94655\n",
      "[305]\tvalidation_0-auc:0.94657\n",
      "[306]\tvalidation_0-auc:0.94658\n",
      "[307]\tvalidation_0-auc:0.94660\n",
      "[308]\tvalidation_0-auc:0.94662\n",
      "[309]\tvalidation_0-auc:0.94664\n",
      "[310]\tvalidation_0-auc:0.94664\n",
      "[311]\tvalidation_0-auc:0.94666\n",
      "[312]\tvalidation_0-auc:0.94668\n",
      "[313]\tvalidation_0-auc:0.94669\n",
      "[314]\tvalidation_0-auc:0.94670\n",
      "[315]\tvalidation_0-auc:0.94671\n",
      "[316]\tvalidation_0-auc:0.94674\n",
      "[317]\tvalidation_0-auc:0.94676\n",
      "[318]\tvalidation_0-auc:0.94677\n",
      "[319]\tvalidation_0-auc:0.94679\n",
      "[320]\tvalidation_0-auc:0.94680\n",
      "[321]\tvalidation_0-auc:0.94682\n",
      "[322]\tvalidation_0-auc:0.94683\n",
      "[323]\tvalidation_0-auc:0.94685\n",
      "[324]\tvalidation_0-auc:0.94686\n",
      "[325]\tvalidation_0-auc:0.94688\n",
      "[326]\tvalidation_0-auc:0.94689\n",
      "[327]\tvalidation_0-auc:0.94691\n",
      "[328]\tvalidation_0-auc:0.94693\n",
      "[329]\tvalidation_0-auc:0.94694\n",
      "[330]\tvalidation_0-auc:0.94696\n",
      "[331]\tvalidation_0-auc:0.94697\n",
      "[332]\tvalidation_0-auc:0.94699\n",
      "[333]\tvalidation_0-auc:0.94700\n",
      "[334]\tvalidation_0-auc:0.94702\n",
      "[335]\tvalidation_0-auc:0.94704\n",
      "[336]\tvalidation_0-auc:0.94706\n",
      "[337]\tvalidation_0-auc:0.94708\n",
      "[338]\tvalidation_0-auc:0.94709\n",
      "[339]\tvalidation_0-auc:0.94710\n",
      "[340]\tvalidation_0-auc:0.94712\n",
      "[341]\tvalidation_0-auc:0.94714\n",
      "[342]\tvalidation_0-auc:0.94716\n",
      "[343]\tvalidation_0-auc:0.94717\n",
      "[344]\tvalidation_0-auc:0.94719\n",
      "[345]\tvalidation_0-auc:0.94720\n",
      "[346]\tvalidation_0-auc:0.94722\n",
      "[347]\tvalidation_0-auc:0.94723\n",
      "[348]\tvalidation_0-auc:0.94724\n",
      "[349]\tvalidation_0-auc:0.94726\n",
      "[350]\tvalidation_0-auc:0.94727\n",
      "[351]\tvalidation_0-auc:0.94728\n",
      "[352]\tvalidation_0-auc:0.94730\n",
      "[353]\tvalidation_0-auc:0.94732\n",
      "[354]\tvalidation_0-auc:0.94733\n",
      "[355]\tvalidation_0-auc:0.94735\n",
      "[356]\tvalidation_0-auc:0.94737\n",
      "[357]\tvalidation_0-auc:0.94739\n",
      "[358]\tvalidation_0-auc:0.94740\n",
      "[359]\tvalidation_0-auc:0.94742\n",
      "[360]\tvalidation_0-auc:0.94743\n",
      "[361]\tvalidation_0-auc:0.94744\n",
      "[362]\tvalidation_0-auc:0.94745\n",
      "[363]\tvalidation_0-auc:0.94747\n",
      "[364]\tvalidation_0-auc:0.94747\n",
      "[365]\tvalidation_0-auc:0.94749\n",
      "[366]\tvalidation_0-auc:0.94751\n",
      "[367]\tvalidation_0-auc:0.94752\n",
      "[368]\tvalidation_0-auc:0.94753\n",
      "[369]\tvalidation_0-auc:0.94754\n",
      "[370]\tvalidation_0-auc:0.94755\n",
      "[371]\tvalidation_0-auc:0.94755\n",
      "[372]\tvalidation_0-auc:0.94756\n",
      "[373]\tvalidation_0-auc:0.94758\n",
      "[374]\tvalidation_0-auc:0.94759\n",
      "[375]\tvalidation_0-auc:0.94759\n",
      "[376]\tvalidation_0-auc:0.94761\n",
      "[377]\tvalidation_0-auc:0.94761\n",
      "[378]\tvalidation_0-auc:0.94763\n",
      "[379]\tvalidation_0-auc:0.94763\n",
      "[380]\tvalidation_0-auc:0.94764\n",
      "[381]\tvalidation_0-auc:0.94766\n",
      "[382]\tvalidation_0-auc:0.94766\n",
      "[383]\tvalidation_0-auc:0.94767\n",
      "[384]\tvalidation_0-auc:0.94768\n",
      "[385]\tvalidation_0-auc:0.94769\n",
      "[386]\tvalidation_0-auc:0.94771\n",
      "[387]\tvalidation_0-auc:0.94772\n",
      "[388]\tvalidation_0-auc:0.94773\n",
      "[389]\tvalidation_0-auc:0.94774\n",
      "[390]\tvalidation_0-auc:0.94775\n",
      "[391]\tvalidation_0-auc:0.94776\n",
      "[392]\tvalidation_0-auc:0.94778\n",
      "[393]\tvalidation_0-auc:0.94779\n",
      "[394]\tvalidation_0-auc:0.94781\n",
      "[395]\tvalidation_0-auc:0.94782\n",
      "[396]\tvalidation_0-auc:0.94783\n",
      "[397]\tvalidation_0-auc:0.94785\n",
      "[398]\tvalidation_0-auc:0.94786\n",
      "[399]\tvalidation_0-auc:0.94787\n",
      "[400]\tvalidation_0-auc:0.94788\n",
      "[401]\tvalidation_0-auc:0.94789\n",
      "[402]\tvalidation_0-auc:0.94790\n",
      "[403]\tvalidation_0-auc:0.94790\n",
      "[404]\tvalidation_0-auc:0.94791\n",
      "[405]\tvalidation_0-auc:0.94793\n",
      "[406]\tvalidation_0-auc:0.94793\n",
      "[407]\tvalidation_0-auc:0.94795\n",
      "[408]\tvalidation_0-auc:0.94795\n",
      "[409]\tvalidation_0-auc:0.94796\n",
      "[410]\tvalidation_0-auc:0.94797\n",
      "[411]\tvalidation_0-auc:0.94798\n",
      "[412]\tvalidation_0-auc:0.94799\n",
      "[413]\tvalidation_0-auc:0.94801\n",
      "[414]\tvalidation_0-auc:0.94801\n",
      "[415]\tvalidation_0-auc:0.94802\n",
      "[416]\tvalidation_0-auc:0.94803\n",
      "[417]\tvalidation_0-auc:0.94804\n",
      "[418]\tvalidation_0-auc:0.94805\n",
      "[419]\tvalidation_0-auc:0.94805\n",
      "[420]\tvalidation_0-auc:0.94807\n",
      "[421]\tvalidation_0-auc:0.94808\n",
      "[422]\tvalidation_0-auc:0.94808\n",
      "[423]\tvalidation_0-auc:0.94809\n",
      "[424]\tvalidation_0-auc:0.94810\n",
      "[425]\tvalidation_0-auc:0.94811\n",
      "[426]\tvalidation_0-auc:0.94811\n",
      "[427]\tvalidation_0-auc:0.94812\n",
      "[428]\tvalidation_0-auc:0.94814\n",
      "[429]\tvalidation_0-auc:0.94814\n",
      "[430]\tvalidation_0-auc:0.94815\n",
      "[431]\tvalidation_0-auc:0.94815\n",
      "[432]\tvalidation_0-auc:0.94815\n",
      "[433]\tvalidation_0-auc:0.94817\n",
      "[434]\tvalidation_0-auc:0.94818\n",
      "[435]\tvalidation_0-auc:0.94818\n",
      "[436]\tvalidation_0-auc:0.94819\n",
      "[437]\tvalidation_0-auc:0.94820\n",
      "[438]\tvalidation_0-auc:0.94821\n",
      "[439]\tvalidation_0-auc:0.94821\n",
      "[440]\tvalidation_0-auc:0.94823\n",
      "[441]\tvalidation_0-auc:0.94823\n",
      "[442]\tvalidation_0-auc:0.94823\n",
      "[443]\tvalidation_0-auc:0.94825\n",
      "[444]\tvalidation_0-auc:0.94825\n",
      "[445]\tvalidation_0-auc:0.94825\n",
      "[446]\tvalidation_0-auc:0.94826\n",
      "[447]\tvalidation_0-auc:0.94827\n",
      "[448]\tvalidation_0-auc:0.94828\n",
      "[449]\tvalidation_0-auc:0.94828\n",
      "[450]\tvalidation_0-auc:0.94828\n",
      "[451]\tvalidation_0-auc:0.94829\n",
      "[452]\tvalidation_0-auc:0.94830\n",
      "[453]\tvalidation_0-auc:0.94830\n",
      "[454]\tvalidation_0-auc:0.94830\n",
      "[455]\tvalidation_0-auc:0.94831\n",
      "[456]\tvalidation_0-auc:0.94832\n",
      "[457]\tvalidation_0-auc:0.94833\n",
      "[458]\tvalidation_0-auc:0.94834\n",
      "[459]\tvalidation_0-auc:0.94835\n",
      "[460]\tvalidation_0-auc:0.94835\n",
      "[461]\tvalidation_0-auc:0.94837\n",
      "[462]\tvalidation_0-auc:0.94836\n",
      "[463]\tvalidation_0-auc:0.94837\n",
      "[464]\tvalidation_0-auc:0.94839\n",
      "[465]\tvalidation_0-auc:0.94839\n",
      "[466]\tvalidation_0-auc:0.94840\n",
      "[467]\tvalidation_0-auc:0.94841\n",
      "[468]\tvalidation_0-auc:0.94842\n",
      "[469]\tvalidation_0-auc:0.94842\n",
      "[470]\tvalidation_0-auc:0.94843\n",
      "[471]\tvalidation_0-auc:0.94844\n",
      "[472]\tvalidation_0-auc:0.94845\n",
      "[473]\tvalidation_0-auc:0.94845\n",
      "[474]\tvalidation_0-auc:0.94846\n",
      "[475]\tvalidation_0-auc:0.94847\n",
      "[476]\tvalidation_0-auc:0.94848\n",
      "[477]\tvalidation_0-auc:0.94848\n",
      "[478]\tvalidation_0-auc:0.94849\n",
      "[479]\tvalidation_0-auc:0.94850\n",
      "[480]\tvalidation_0-auc:0.94851\n",
      "[481]\tvalidation_0-auc:0.94852\n",
      "[482]\tvalidation_0-auc:0.94853\n",
      "[483]\tvalidation_0-auc:0.94854\n",
      "[484]\tvalidation_0-auc:0.94855\n",
      "[485]\tvalidation_0-auc:0.94856\n",
      "[486]\tvalidation_0-auc:0.94857\n",
      "[487]\tvalidation_0-auc:0.94857\n",
      "[488]\tvalidation_0-auc:0.94859\n",
      "[489]\tvalidation_0-auc:0.94859\n",
      "[490]\tvalidation_0-auc:0.94861\n",
      "[491]\tvalidation_0-auc:0.94861\n",
      "[492]\tvalidation_0-auc:0.94861\n",
      "[493]\tvalidation_0-auc:0.94862\n",
      "[494]\tvalidation_0-auc:0.94863\n",
      "[495]\tvalidation_0-auc:0.94864\n",
      "[496]\tvalidation_0-auc:0.94865\n",
      "[497]\tvalidation_0-auc:0.94866\n",
      "[498]\tvalidation_0-auc:0.94866\n",
      "[499]\tvalidation_0-auc:0.94867\n",
      "[500]\tvalidation_0-auc:0.94867\n",
      "[501]\tvalidation_0-auc:0.94868\n",
      "[502]\tvalidation_0-auc:0.94868\n",
      "[503]\tvalidation_0-auc:0.94868\n",
      "[504]\tvalidation_0-auc:0.94868\n",
      "[505]\tvalidation_0-auc:0.94869\n",
      "[506]\tvalidation_0-auc:0.94870\n",
      "[507]\tvalidation_0-auc:0.94870\n",
      "[508]\tvalidation_0-auc:0.94871\n",
      "[509]\tvalidation_0-auc:0.94871\n",
      "[510]\tvalidation_0-auc:0.94871\n",
      "[511]\tvalidation_0-auc:0.94872\n",
      "[512]\tvalidation_0-auc:0.94872\n",
      "[513]\tvalidation_0-auc:0.94873\n",
      "[514]\tvalidation_0-auc:0.94873\n",
      "[515]\tvalidation_0-auc:0.94874\n",
      "[516]\tvalidation_0-auc:0.94875\n",
      "[517]\tvalidation_0-auc:0.94876\n",
      "[518]\tvalidation_0-auc:0.94877\n",
      "[519]\tvalidation_0-auc:0.94877\n",
      "[520]\tvalidation_0-auc:0.94877\n",
      "[521]\tvalidation_0-auc:0.94878\n",
      "[522]\tvalidation_0-auc:0.94878\n",
      "[523]\tvalidation_0-auc:0.94878\n",
      "[524]\tvalidation_0-auc:0.94879\n",
      "[525]\tvalidation_0-auc:0.94879\n",
      "[526]\tvalidation_0-auc:0.94880\n",
      "[527]\tvalidation_0-auc:0.94881\n",
      "[528]\tvalidation_0-auc:0.94881\n",
      "[529]\tvalidation_0-auc:0.94882\n",
      "[530]\tvalidation_0-auc:0.94882\n"
     ]
    },
    {
     "name": "stdout",
     "output_type": "stream",
     "text": [
      "[531]\tvalidation_0-auc:0.94883\n",
      "[532]\tvalidation_0-auc:0.94884\n",
      "[533]\tvalidation_0-auc:0.94884\n",
      "[534]\tvalidation_0-auc:0.94885\n",
      "[535]\tvalidation_0-auc:0.94886\n",
      "[536]\tvalidation_0-auc:0.94886\n",
      "[537]\tvalidation_0-auc:0.94887\n",
      "[538]\tvalidation_0-auc:0.94888\n",
      "[539]\tvalidation_0-auc:0.94888\n",
      "[540]\tvalidation_0-auc:0.94889\n",
      "[541]\tvalidation_0-auc:0.94890\n",
      "[542]\tvalidation_0-auc:0.94890\n",
      "[543]\tvalidation_0-auc:0.94891\n",
      "[544]\tvalidation_0-auc:0.94891\n",
      "[545]\tvalidation_0-auc:0.94892\n",
      "[546]\tvalidation_0-auc:0.94892\n",
      "[547]\tvalidation_0-auc:0.94893\n",
      "[548]\tvalidation_0-auc:0.94893\n",
      "[549]\tvalidation_0-auc:0.94894\n",
      "[550]\tvalidation_0-auc:0.94895\n",
      "[551]\tvalidation_0-auc:0.94896\n",
      "[552]\tvalidation_0-auc:0.94897\n",
      "[553]\tvalidation_0-auc:0.94897\n",
      "[554]\tvalidation_0-auc:0.94897\n",
      "[555]\tvalidation_0-auc:0.94898\n",
      "[556]\tvalidation_0-auc:0.94899\n",
      "[557]\tvalidation_0-auc:0.94900\n",
      "[558]\tvalidation_0-auc:0.94901\n",
      "[559]\tvalidation_0-auc:0.94901\n",
      "[560]\tvalidation_0-auc:0.94901\n",
      "[561]\tvalidation_0-auc:0.94902\n",
      "[562]\tvalidation_0-auc:0.94903\n",
      "[563]\tvalidation_0-auc:0.94903\n",
      "[564]\tvalidation_0-auc:0.94904\n",
      "[565]\tvalidation_0-auc:0.94904\n",
      "[566]\tvalidation_0-auc:0.94905\n",
      "[567]\tvalidation_0-auc:0.94905\n",
      "[568]\tvalidation_0-auc:0.94906\n",
      "[569]\tvalidation_0-auc:0.94906\n",
      "[570]\tvalidation_0-auc:0.94907\n",
      "[571]\tvalidation_0-auc:0.94908\n",
      "[572]\tvalidation_0-auc:0.94908\n",
      "[573]\tvalidation_0-auc:0.94909\n",
      "[574]\tvalidation_0-auc:0.94908\n",
      "[575]\tvalidation_0-auc:0.94909\n",
      "[576]\tvalidation_0-auc:0.94910\n",
      "[577]\tvalidation_0-auc:0.94910\n",
      "[578]\tvalidation_0-auc:0.94911\n",
      "[579]\tvalidation_0-auc:0.94912\n",
      "[580]\tvalidation_0-auc:0.94912\n",
      "[581]\tvalidation_0-auc:0.94914\n",
      "[582]\tvalidation_0-auc:0.94915\n",
      "[583]\tvalidation_0-auc:0.94915\n",
      "[584]\tvalidation_0-auc:0.94915\n",
      "[585]\tvalidation_0-auc:0.94917\n",
      "[586]\tvalidation_0-auc:0.94917\n",
      "[587]\tvalidation_0-auc:0.94918\n",
      "[588]\tvalidation_0-auc:0.94918\n",
      "[589]\tvalidation_0-auc:0.94919\n",
      "[590]\tvalidation_0-auc:0.94920\n",
      "[591]\tvalidation_0-auc:0.94921\n",
      "[592]\tvalidation_0-auc:0.94922\n",
      "[593]\tvalidation_0-auc:0.94922\n",
      "[594]\tvalidation_0-auc:0.94923\n",
      "[595]\tvalidation_0-auc:0.94923\n",
      "[596]\tvalidation_0-auc:0.94924\n",
      "[597]\tvalidation_0-auc:0.94924\n",
      "[598]\tvalidation_0-auc:0.94924\n",
      "[599]\tvalidation_0-auc:0.94924\n",
      "[600]\tvalidation_0-auc:0.94926\n",
      "[601]\tvalidation_0-auc:0.94926\n",
      "[602]\tvalidation_0-auc:0.94926\n",
      "[603]\tvalidation_0-auc:0.94927\n",
      "[604]\tvalidation_0-auc:0.94928\n",
      "[605]\tvalidation_0-auc:0.94929\n",
      "[606]\tvalidation_0-auc:0.94929\n",
      "[607]\tvalidation_0-auc:0.94930\n",
      "[608]\tvalidation_0-auc:0.94931\n",
      "[609]\tvalidation_0-auc:0.94931\n",
      "[610]\tvalidation_0-auc:0.94932\n",
      "[611]\tvalidation_0-auc:0.94932\n",
      "[612]\tvalidation_0-auc:0.94933\n",
      "[613]\tvalidation_0-auc:0.94934\n",
      "[614]\tvalidation_0-auc:0.94934\n",
      "[615]\tvalidation_0-auc:0.94935\n",
      "[616]\tvalidation_0-auc:0.94935\n",
      "[617]\tvalidation_0-auc:0.94936\n",
      "[618]\tvalidation_0-auc:0.94938\n",
      "[619]\tvalidation_0-auc:0.94938\n",
      "[620]\tvalidation_0-auc:0.94938\n",
      "[621]\tvalidation_0-auc:0.94938\n",
      "[622]\tvalidation_0-auc:0.94939\n",
      "[623]\tvalidation_0-auc:0.94940\n",
      "[624]\tvalidation_0-auc:0.94940\n",
      "[625]\tvalidation_0-auc:0.94941\n",
      "[626]\tvalidation_0-auc:0.94942\n",
      "[627]\tvalidation_0-auc:0.94943\n",
      "[628]\tvalidation_0-auc:0.94944\n",
      "[629]\tvalidation_0-auc:0.94944\n",
      "[630]\tvalidation_0-auc:0.94945\n",
      "[631]\tvalidation_0-auc:0.94946\n",
      "[632]\tvalidation_0-auc:0.94947\n",
      "[633]\tvalidation_0-auc:0.94947\n",
      "[634]\tvalidation_0-auc:0.94948\n",
      "[635]\tvalidation_0-auc:0.94949\n",
      "[636]\tvalidation_0-auc:0.94949\n",
      "[637]\tvalidation_0-auc:0.94950\n",
      "[638]\tvalidation_0-auc:0.94951\n",
      "[639]\tvalidation_0-auc:0.94952\n",
      "[640]\tvalidation_0-auc:0.94953\n",
      "[641]\tvalidation_0-auc:0.94953\n",
      "[642]\tvalidation_0-auc:0.94954\n",
      "[643]\tvalidation_0-auc:0.94955\n",
      "[644]\tvalidation_0-auc:0.94955\n",
      "[645]\tvalidation_0-auc:0.94956\n",
      "[646]\tvalidation_0-auc:0.94956\n",
      "[647]\tvalidation_0-auc:0.94957\n",
      "[648]\tvalidation_0-auc:0.94958\n",
      "[649]\tvalidation_0-auc:0.94958\n",
      "[650]\tvalidation_0-auc:0.94959\n",
      "[651]\tvalidation_0-auc:0.94960\n",
      "[652]\tvalidation_0-auc:0.94960\n",
      "[653]\tvalidation_0-auc:0.94961\n",
      "[654]\tvalidation_0-auc:0.94961\n",
      "[655]\tvalidation_0-auc:0.94962\n",
      "[656]\tvalidation_0-auc:0.94962\n",
      "[657]\tvalidation_0-auc:0.94963\n",
      "[658]\tvalidation_0-auc:0.94963\n",
      "[659]\tvalidation_0-auc:0.94964\n",
      "[660]\tvalidation_0-auc:0.94964\n",
      "[661]\tvalidation_0-auc:0.94965\n",
      "[662]\tvalidation_0-auc:0.94965\n",
      "[663]\tvalidation_0-auc:0.94966\n",
      "[664]\tvalidation_0-auc:0.94966\n",
      "[665]\tvalidation_0-auc:0.94966\n",
      "[666]\tvalidation_0-auc:0.94966\n",
      "[667]\tvalidation_0-auc:0.94967\n",
      "[668]\tvalidation_0-auc:0.94967\n",
      "[669]\tvalidation_0-auc:0.94967\n",
      "[670]\tvalidation_0-auc:0.94968\n",
      "[671]\tvalidation_0-auc:0.94968\n",
      "[672]\tvalidation_0-auc:0.94969\n",
      "[673]\tvalidation_0-auc:0.94969\n",
      "[674]\tvalidation_0-auc:0.94969\n",
      "[675]\tvalidation_0-auc:0.94970\n",
      "[676]\tvalidation_0-auc:0.94971\n",
      "[677]\tvalidation_0-auc:0.94971\n",
      "[678]\tvalidation_0-auc:0.94971\n",
      "[679]\tvalidation_0-auc:0.94971\n",
      "[680]\tvalidation_0-auc:0.94971\n",
      "[681]\tvalidation_0-auc:0.94972\n",
      "[682]\tvalidation_0-auc:0.94972\n",
      "[683]\tvalidation_0-auc:0.94973\n",
      "[684]\tvalidation_0-auc:0.94973\n",
      "[685]\tvalidation_0-auc:0.94973\n",
      "[686]\tvalidation_0-auc:0.94974\n",
      "[687]\tvalidation_0-auc:0.94974\n",
      "[688]\tvalidation_0-auc:0.94974\n",
      "[689]\tvalidation_0-auc:0.94974\n",
      "[690]\tvalidation_0-auc:0.94974\n",
      "[691]\tvalidation_0-auc:0.94975\n",
      "[692]\tvalidation_0-auc:0.94975\n",
      "[693]\tvalidation_0-auc:0.94975\n",
      "[694]\tvalidation_0-auc:0.94975\n",
      "[695]\tvalidation_0-auc:0.94975\n",
      "[696]\tvalidation_0-auc:0.94976\n",
      "[697]\tvalidation_0-auc:0.94976\n",
      "[698]\tvalidation_0-auc:0.94976\n",
      "[699]\tvalidation_0-auc:0.94976\n",
      "[700]\tvalidation_0-auc:0.94976\n",
      "[701]\tvalidation_0-auc:0.94976\n",
      "[702]\tvalidation_0-auc:0.94976\n",
      "[703]\tvalidation_0-auc:0.94976\n",
      "[704]\tvalidation_0-auc:0.94976\n",
      "[705]\tvalidation_0-auc:0.94977\n",
      "[706]\tvalidation_0-auc:0.94976\n",
      "[707]\tvalidation_0-auc:0.94978\n",
      "[708]\tvalidation_0-auc:0.94978\n",
      "[709]\tvalidation_0-auc:0.94978\n",
      "[710]\tvalidation_0-auc:0.94978\n",
      "[711]\tvalidation_0-auc:0.94978\n",
      "[712]\tvalidation_0-auc:0.94979\n",
      "[713]\tvalidation_0-auc:0.94979\n",
      "[714]\tvalidation_0-auc:0.94979\n",
      "[715]\tvalidation_0-auc:0.94979\n",
      "[716]\tvalidation_0-auc:0.94979\n",
      "[717]\tvalidation_0-auc:0.94980\n",
      "[718]\tvalidation_0-auc:0.94980\n",
      "[719]\tvalidation_0-auc:0.94981\n",
      "[720]\tvalidation_0-auc:0.94981\n",
      "[721]\tvalidation_0-auc:0.94982\n",
      "[722]\tvalidation_0-auc:0.94982\n",
      "[723]\tvalidation_0-auc:0.94982\n",
      "[724]\tvalidation_0-auc:0.94982\n",
      "[725]\tvalidation_0-auc:0.94983\n",
      "[726]\tvalidation_0-auc:0.94983\n",
      "[727]\tvalidation_0-auc:0.94983\n",
      "[728]\tvalidation_0-auc:0.94984\n",
      "[729]\tvalidation_0-auc:0.94984\n",
      "[730]\tvalidation_0-auc:0.94984\n",
      "[731]\tvalidation_0-auc:0.94984\n",
      "[732]\tvalidation_0-auc:0.94984\n",
      "[733]\tvalidation_0-auc:0.94985\n",
      "[734]\tvalidation_0-auc:0.94985\n",
      "[735]\tvalidation_0-auc:0.94985\n",
      "[736]\tvalidation_0-auc:0.94986\n",
      "[737]\tvalidation_0-auc:0.94986\n",
      "[738]\tvalidation_0-auc:0.94986\n",
      "[739]\tvalidation_0-auc:0.94987\n",
      "[740]\tvalidation_0-auc:0.94986\n",
      "[741]\tvalidation_0-auc:0.94986\n",
      "[742]\tvalidation_0-auc:0.94987\n",
      "[743]\tvalidation_0-auc:0.94987\n",
      "[744]\tvalidation_0-auc:0.94987\n",
      "[745]\tvalidation_0-auc:0.94987\n",
      "[746]\tvalidation_0-auc:0.94988\n",
      "[747]\tvalidation_0-auc:0.94988\n",
      "[748]\tvalidation_0-auc:0.94988\n",
      "[749]\tvalidation_0-auc:0.94988\n",
      "[750]\tvalidation_0-auc:0.94988\n",
      "[751]\tvalidation_0-auc:0.94989\n",
      "[752]\tvalidation_0-auc:0.94989\n",
      "[753]\tvalidation_0-auc:0.94990\n",
      "[754]\tvalidation_0-auc:0.94990\n",
      "[755]\tvalidation_0-auc:0.94990\n",
      "[756]\tvalidation_0-auc:0.94990\n",
      "[757]\tvalidation_0-auc:0.94991\n",
      "[758]\tvalidation_0-auc:0.94991\n",
      "[759]\tvalidation_0-auc:0.94991\n",
      "[760]\tvalidation_0-auc:0.94991\n",
      "[761]\tvalidation_0-auc:0.94991\n",
      "[762]\tvalidation_0-auc:0.94991\n",
      "[763]\tvalidation_0-auc:0.94991\n",
      "[764]\tvalidation_0-auc:0.94991\n",
      "[765]\tvalidation_0-auc:0.94992\n",
      "[766]\tvalidation_0-auc:0.94992\n",
      "[767]\tvalidation_0-auc:0.94992\n",
      "[768]\tvalidation_0-auc:0.94992\n",
      "[769]\tvalidation_0-auc:0.94992\n",
      "[770]\tvalidation_0-auc:0.94993\n",
      "[771]\tvalidation_0-auc:0.94993\n",
      "[772]\tvalidation_0-auc:0.94993\n",
      "[773]\tvalidation_0-auc:0.94993\n",
      "[774]\tvalidation_0-auc:0.94993\n",
      "[775]\tvalidation_0-auc:0.94993\n",
      "[776]\tvalidation_0-auc:0.94994\n",
      "[777]\tvalidation_0-auc:0.94994\n",
      "[778]\tvalidation_0-auc:0.94994\n",
      "[779]\tvalidation_0-auc:0.94994\n",
      "[780]\tvalidation_0-auc:0.94994\n",
      "[781]\tvalidation_0-auc:0.94995\n",
      "[782]\tvalidation_0-auc:0.94995\n",
      "[783]\tvalidation_0-auc:0.94995\n",
      "[784]\tvalidation_0-auc:0.94996\n",
      "[785]\tvalidation_0-auc:0.94996\n",
      "[786]\tvalidation_0-auc:0.94997\n",
      "[787]\tvalidation_0-auc:0.94997\n",
      "[788]\tvalidation_0-auc:0.94997\n",
      "[789]\tvalidation_0-auc:0.94998\n",
      "[790]\tvalidation_0-auc:0.94998\n",
      "[791]\tvalidation_0-auc:0.94998\n",
      "[792]\tvalidation_0-auc:0.94998\n",
      "[793]\tvalidation_0-auc:0.94999\n",
      "[794]\tvalidation_0-auc:0.94999\n",
      "[795]\tvalidation_0-auc:0.94999\n"
     ]
    },
    {
     "name": "stdout",
     "output_type": "stream",
     "text": [
      "[796]\tvalidation_0-auc:0.95000\n",
      "[797]\tvalidation_0-auc:0.95000\n",
      "[798]\tvalidation_0-auc:0.95000\n",
      "[799]\tvalidation_0-auc:0.95001\n",
      "[800]\tvalidation_0-auc:0.95001\n",
      "[801]\tvalidation_0-auc:0.95001\n",
      "[802]\tvalidation_0-auc:0.95002\n",
      "[803]\tvalidation_0-auc:0.95002\n",
      "[804]\tvalidation_0-auc:0.95002\n",
      "[805]\tvalidation_0-auc:0.95002\n",
      "[806]\tvalidation_0-auc:0.95002\n",
      "[807]\tvalidation_0-auc:0.95003\n",
      "[808]\tvalidation_0-auc:0.95003\n",
      "[809]\tvalidation_0-auc:0.95003\n",
      "[810]\tvalidation_0-auc:0.95003\n",
      "[811]\tvalidation_0-auc:0.95004\n",
      "[812]\tvalidation_0-auc:0.95004\n",
      "[813]\tvalidation_0-auc:0.95004\n",
      "[814]\tvalidation_0-auc:0.95005\n",
      "[815]\tvalidation_0-auc:0.95005\n",
      "[816]\tvalidation_0-auc:0.95005\n",
      "[817]\tvalidation_0-auc:0.95005\n",
      "[818]\tvalidation_0-auc:0.95005\n",
      "[819]\tvalidation_0-auc:0.95005\n",
      "[820]\tvalidation_0-auc:0.95005\n",
      "[821]\tvalidation_0-auc:0.95006\n",
      "[822]\tvalidation_0-auc:0.95006\n",
      "[823]\tvalidation_0-auc:0.95006\n",
      "[824]\tvalidation_0-auc:0.95006\n",
      "[825]\tvalidation_0-auc:0.95007\n",
      "[826]\tvalidation_0-auc:0.95007\n",
      "[827]\tvalidation_0-auc:0.95007\n",
      "[828]\tvalidation_0-auc:0.95007\n",
      "[829]\tvalidation_0-auc:0.95007\n",
      "[830]\tvalidation_0-auc:0.95007\n",
      "[831]\tvalidation_0-auc:0.95008\n",
      "[832]\tvalidation_0-auc:0.95008\n",
      "[833]\tvalidation_0-auc:0.95009\n",
      "[834]\tvalidation_0-auc:0.95009\n",
      "[835]\tvalidation_0-auc:0.95009\n",
      "[836]\tvalidation_0-auc:0.95009\n",
      "[837]\tvalidation_0-auc:0.95009\n",
      "[838]\tvalidation_0-auc:0.95009\n",
      "[839]\tvalidation_0-auc:0.95010\n",
      "[840]\tvalidation_0-auc:0.95010\n",
      "[841]\tvalidation_0-auc:0.95010\n",
      "[842]\tvalidation_0-auc:0.95010\n",
      "[843]\tvalidation_0-auc:0.95011\n",
      "[844]\tvalidation_0-auc:0.95011\n",
      "[845]\tvalidation_0-auc:0.95011\n",
      "[846]\tvalidation_0-auc:0.95011\n",
      "[847]\tvalidation_0-auc:0.95012\n",
      "[848]\tvalidation_0-auc:0.95011\n",
      "[849]\tvalidation_0-auc:0.95012\n",
      "[850]\tvalidation_0-auc:0.95012\n",
      "[851]\tvalidation_0-auc:0.95012\n",
      "[852]\tvalidation_0-auc:0.95012\n",
      "[853]\tvalidation_0-auc:0.95012\n",
      "[854]\tvalidation_0-auc:0.95013\n",
      "[855]\tvalidation_0-auc:0.95013\n",
      "[856]\tvalidation_0-auc:0.95013\n",
      "[857]\tvalidation_0-auc:0.95013\n",
      "[858]\tvalidation_0-auc:0.95013\n",
      "[859]\tvalidation_0-auc:0.95014\n",
      "[860]\tvalidation_0-auc:0.95014\n",
      "[861]\tvalidation_0-auc:0.95014\n",
      "[862]\tvalidation_0-auc:0.95014\n",
      "[863]\tvalidation_0-auc:0.95015\n",
      "[864]\tvalidation_0-auc:0.95015\n",
      "[865]\tvalidation_0-auc:0.95015\n",
      "[866]\tvalidation_0-auc:0.95015\n",
      "[867]\tvalidation_0-auc:0.95016\n",
      "[868]\tvalidation_0-auc:0.95016\n",
      "[869]\tvalidation_0-auc:0.95016\n",
      "[870]\tvalidation_0-auc:0.95016\n",
      "[871]\tvalidation_0-auc:0.95016\n",
      "[872]\tvalidation_0-auc:0.95016\n",
      "[873]\tvalidation_0-auc:0.95016\n",
      "[874]\tvalidation_0-auc:0.95016\n",
      "[875]\tvalidation_0-auc:0.95016\n",
      "[876]\tvalidation_0-auc:0.95017\n",
      "[877]\tvalidation_0-auc:0.95017\n",
      "[878]\tvalidation_0-auc:0.95017\n",
      "[879]\tvalidation_0-auc:0.95017\n",
      "[880]\tvalidation_0-auc:0.95017\n",
      "[881]\tvalidation_0-auc:0.95017\n",
      "[882]\tvalidation_0-auc:0.95018\n",
      "[883]\tvalidation_0-auc:0.95018\n",
      "[884]\tvalidation_0-auc:0.95018\n",
      "[885]\tvalidation_0-auc:0.95018\n",
      "[886]\tvalidation_0-auc:0.95018\n",
      "[887]\tvalidation_0-auc:0.95018\n",
      "[888]\tvalidation_0-auc:0.95018\n",
      "[889]\tvalidation_0-auc:0.95019\n",
      "[890]\tvalidation_0-auc:0.95019\n",
      "[891]\tvalidation_0-auc:0.95019\n",
      "[892]\tvalidation_0-auc:0.95019\n",
      "[893]\tvalidation_0-auc:0.95019\n",
      "[894]\tvalidation_0-auc:0.95020\n",
      "[895]\tvalidation_0-auc:0.95020\n",
      "[896]\tvalidation_0-auc:0.95020\n",
      "[897]\tvalidation_0-auc:0.95020\n",
      "[898]\tvalidation_0-auc:0.95020\n",
      "[899]\tvalidation_0-auc:0.95020\n",
      "[900]\tvalidation_0-auc:0.95020\n",
      "[901]\tvalidation_0-auc:0.95020\n",
      "[902]\tvalidation_0-auc:0.95021\n",
      "[903]\tvalidation_0-auc:0.95021\n",
      "[904]\tvalidation_0-auc:0.95021\n",
      "[905]\tvalidation_0-auc:0.95021\n",
      "[906]\tvalidation_0-auc:0.95021\n",
      "[907]\tvalidation_0-auc:0.95021\n",
      "[908]\tvalidation_0-auc:0.95022\n",
      "[909]\tvalidation_0-auc:0.95022\n",
      "[910]\tvalidation_0-auc:0.95022\n",
      "[911]\tvalidation_0-auc:0.95022\n",
      "[912]\tvalidation_0-auc:0.95022\n",
      "[913]\tvalidation_0-auc:0.95022\n",
      "[914]\tvalidation_0-auc:0.95022\n",
      "[915]\tvalidation_0-auc:0.95022\n",
      "[916]\tvalidation_0-auc:0.95022\n",
      "[917]\tvalidation_0-auc:0.95022\n",
      "[918]\tvalidation_0-auc:0.95023\n",
      "[919]\tvalidation_0-auc:0.95023\n",
      "[920]\tvalidation_0-auc:0.95023\n",
      "[921]\tvalidation_0-auc:0.95023\n",
      "[922]\tvalidation_0-auc:0.95024\n",
      "[923]\tvalidation_0-auc:0.95024\n",
      "[924]\tvalidation_0-auc:0.95024\n",
      "[925]\tvalidation_0-auc:0.95024\n",
      "[926]\tvalidation_0-auc:0.95024\n",
      "[927]\tvalidation_0-auc:0.95025\n",
      "[928]\tvalidation_0-auc:0.95025\n",
      "[929]\tvalidation_0-auc:0.95025\n",
      "[930]\tvalidation_0-auc:0.95026\n",
      "[931]\tvalidation_0-auc:0.95026\n",
      "[932]\tvalidation_0-auc:0.95026\n",
      "[933]\tvalidation_0-auc:0.95026\n",
      "[934]\tvalidation_0-auc:0.95027\n",
      "[935]\tvalidation_0-auc:0.95027\n",
      "[936]\tvalidation_0-auc:0.95027\n",
      "[937]\tvalidation_0-auc:0.95027\n",
      "[938]\tvalidation_0-auc:0.95027\n",
      "[939]\tvalidation_0-auc:0.95027\n",
      "[940]\tvalidation_0-auc:0.95027\n",
      "[941]\tvalidation_0-auc:0.95027\n",
      "[942]\tvalidation_0-auc:0.95027\n",
      "[943]\tvalidation_0-auc:0.95027\n",
      "[944]\tvalidation_0-auc:0.95028\n",
      "[945]\tvalidation_0-auc:0.95028\n",
      "[946]\tvalidation_0-auc:0.95027\n",
      "[947]\tvalidation_0-auc:0.95028\n",
      "[948]\tvalidation_0-auc:0.95028\n",
      "[949]\tvalidation_0-auc:0.95028\n",
      "[950]\tvalidation_0-auc:0.95028\n",
      "[951]\tvalidation_0-auc:0.95028\n",
      "[952]\tvalidation_0-auc:0.95028\n",
      "[953]\tvalidation_0-auc:0.95028\n",
      "[954]\tvalidation_0-auc:0.95028\n",
      "[955]\tvalidation_0-auc:0.95029\n",
      "[956]\tvalidation_0-auc:0.95029\n",
      "[957]\tvalidation_0-auc:0.95029\n",
      "[958]\tvalidation_0-auc:0.95029\n",
      "[959]\tvalidation_0-auc:0.95030\n",
      "[960]\tvalidation_0-auc:0.95030\n",
      "[961]\tvalidation_0-auc:0.95030\n",
      "[962]\tvalidation_0-auc:0.95030\n",
      "[963]\tvalidation_0-auc:0.95030\n",
      "[964]\tvalidation_0-auc:0.95030\n",
      "[965]\tvalidation_0-auc:0.95030\n",
      "[966]\tvalidation_0-auc:0.95031\n",
      "[967]\tvalidation_0-auc:0.95031\n",
      "[968]\tvalidation_0-auc:0.95031\n",
      "[969]\tvalidation_0-auc:0.95031\n",
      "[970]\tvalidation_0-auc:0.95031\n",
      "[971]\tvalidation_0-auc:0.95032\n",
      "[972]\tvalidation_0-auc:0.95031\n",
      "[973]\tvalidation_0-auc:0.95031\n",
      "[974]\tvalidation_0-auc:0.95031\n",
      "[975]\tvalidation_0-auc:0.95032\n",
      "[976]\tvalidation_0-auc:0.95032\n",
      "[977]\tvalidation_0-auc:0.95032\n",
      "[978]\tvalidation_0-auc:0.95032\n",
      "[979]\tvalidation_0-auc:0.95032\n",
      "[980]\tvalidation_0-auc:0.95032\n",
      "[981]\tvalidation_0-auc:0.95033\n",
      "[982]\tvalidation_0-auc:0.95033\n",
      "[983]\tvalidation_0-auc:0.95033\n",
      "[984]\tvalidation_0-auc:0.95033\n",
      "[985]\tvalidation_0-auc:0.95033\n",
      "[986]\tvalidation_0-auc:0.95033\n",
      "[987]\tvalidation_0-auc:0.95034\n",
      "[988]\tvalidation_0-auc:0.95034\n",
      "[989]\tvalidation_0-auc:0.95034\n",
      "[990]\tvalidation_0-auc:0.95034\n",
      "[991]\tvalidation_0-auc:0.95035\n",
      "[992]\tvalidation_0-auc:0.95035\n",
      "[993]\tvalidation_0-auc:0.95035\n",
      "[994]\tvalidation_0-auc:0.95035\n",
      "[995]\tvalidation_0-auc:0.95035\n",
      "[996]\tvalidation_0-auc:0.95035\n",
      "[997]\tvalidation_0-auc:0.95035\n",
      "[998]\tvalidation_0-auc:0.95035\n",
      "[999]\tvalidation_0-auc:0.95036\n"
     ]
    },
    {
     "data": {
      "text/plain": [
       "XGBClassifier(base_score=0.5, booster='gbtree', colsample_bylevel=1,\n",
       "              colsample_bynode=1, colsample_bytree=1, gamma=0, gpu_id=-1,\n",
       "              importance_type='gain', interaction_constraints='',\n",
       "              learning_rate=0.01, max_delta_step=0, max_depth=25,\n",
       "              min_child_weight=1, missing=nan, monotone_constraints='()',\n",
       "              n_estimators=1000, n_jobs=0, num_parallel_tree=1, random_state=0,\n",
       "              reg_alpha=0, reg_lambda=1, scale_pos_weight=1, subsample=1,\n",
       "              tree_method='exact', validate_parameters=1, verbosity=None)"
      ]
     },
     "execution_count": 98,
     "metadata": {},
     "output_type": "execute_result"
    }
   ],
   "source": [
    "xgb.fit(x_train, y_train, eval_metric='auc', eval_set=evals,\n",
    "        early_stopping_rounds=100, verbose=True)"
   ]
  },
  {
   "cell_type": "code",
   "execution_count": 99,
   "metadata": {},
   "outputs": [
    {
     "data": {
      "text/plain": [
       "0.95035584911872"
      ]
     },
     "execution_count": 99,
     "metadata": {},
     "output_type": "execute_result"
    }
   ],
   "source": [
    "pred = xgb.predict_proba(x_test)[:,1]\n",
    "roc_auc_score(y_test, pred)"
   ]
  },
  {
   "cell_type": "code",
   "execution_count": 100,
   "metadata": {},
   "outputs": [],
   "source": [
    "result['is_canceled'] = xgb.predict_proba(test)[:,1]\n",
    "result.to_csv('xgb3.csv', index = False)"
   ]
  },
  {
   "cell_type": "code",
   "execution_count": null,
   "metadata": {},
   "outputs": [],
   "source": []
  },
  {
   "cell_type": "code",
   "execution_count": null,
   "metadata": {},
   "outputs": [],
   "source": []
  },
  {
   "cell_type": "markdown",
   "metadata": {},
   "source": [
    "## GradientBoost"
   ]
  },
  {
   "cell_type": "code",
   "execution_count": 137,
   "metadata": {},
   "outputs": [
    {
     "data": {
      "text/plain": [
       "GradientBoostingClassifier(max_depth=11, n_estimators=200)"
      ]
     },
     "execution_count": 137,
     "metadata": {},
     "output_type": "execute_result"
    }
   ],
   "source": [
    "gb = GradientBoostingClassifier(n_estimators = 200, max_depth = 11)\n",
    "gb.fit(x_train, y_train)"
   ]
  },
  {
   "cell_type": "code",
   "execution_count": 138,
   "metadata": {},
   "outputs": [
    {
     "data": {
      "text/plain": [
       "0.9500728472453492"
      ]
     },
     "execution_count": 138,
     "metadata": {},
     "output_type": "execute_result"
    }
   ],
   "source": [
    "pred = gb.predict_proba(x_test)[:,1]\n",
    "roc_auc_score(y_test, pred)"
   ]
  },
  {
   "cell_type": "code",
   "execution_count": null,
   "metadata": {},
   "outputs": [],
   "source": [
    "result['is_canceled'] = gb.predict_proba(test)[:,1]\n",
    "result.to_csv('gb2.csv', index = False)"
   ]
  },
  {
   "cell_type": "code",
   "execution_count": null,
   "metadata": {},
   "outputs": [],
   "source": []
  },
  {
   "cell_type": "code",
   "execution_count": null,
   "metadata": {},
   "outputs": [],
   "source": []
  },
  {
   "cell_type": "markdown",
   "metadata": {},
   "source": [
    "## Logistic Regression"
   ]
  },
  {
   "cell_type": "code",
   "execution_count": null,
   "metadata": {},
   "outputs": [],
   "source": [
    "lr = LogisticRegression(C = 1)\n",
    "lr.fit(x_train, y_train)"
   ]
  },
  {
   "cell_type": "code",
   "execution_count": null,
   "metadata": {},
   "outputs": [],
   "source": [
    "pred = lr.predict_proba(x_test)[:,1]\n",
    "roc_auc_score(y_test, pred)"
   ]
  },
  {
   "cell_type": "code",
   "execution_count": null,
   "metadata": {},
   "outputs": [],
   "source": []
  },
  {
   "cell_type": "code",
   "execution_count": null,
   "metadata": {},
   "outputs": [],
   "source": []
  },
  {
   "cell_type": "markdown",
   "metadata": {},
   "source": [
    "## DecisionTree"
   ]
  },
  {
   "cell_type": "code",
   "execution_count": null,
   "metadata": {},
   "outputs": [],
   "source": [
    "dt = DecisionTreeClassifier(max_depth = 11)\n",
    "dt.fit(x_train, y_train)"
   ]
  },
  {
   "cell_type": "code",
   "execution_count": null,
   "metadata": {},
   "outputs": [],
   "source": [
    "pred = dt.predict_proba(x_test)[:,1]\n",
    "roc_auc_score(y_test, pred)"
   ]
  },
  {
   "cell_type": "code",
   "execution_count": null,
   "metadata": {},
   "outputs": [],
   "source": []
  },
  {
   "cell_type": "markdown",
   "metadata": {},
   "source": [
    "## AdaBoostClassifier"
   ]
  },
  {
   "cell_type": "code",
   "execution_count": null,
   "metadata": {},
   "outputs": [],
   "source": [
    "ab = AdaBoostClassifier(learning_rate = 1, n_estimators =1000)\n",
    "ab.fit(x_train, y_train)"
   ]
  },
  {
   "cell_type": "code",
   "execution_count": null,
   "metadata": {},
   "outputs": [],
   "source": [
    "pred = ab.predict_proba(x_test)[:,1]\n",
    "roc_auc_score(y_test, pred)"
   ]
  },
  {
   "cell_type": "code",
   "execution_count": null,
   "metadata": {},
   "outputs": [],
   "source": []
  },
  {
   "cell_type": "code",
   "execution_count": null,
   "metadata": {},
   "outputs": [],
   "source": []
  },
  {
   "cell_type": "markdown",
   "metadata": {},
   "source": [
    "## KNeighborsClassifier"
   ]
  },
  {
   "cell_type": "code",
   "execution_count": null,
   "metadata": {},
   "outputs": [],
   "source": [
    "kn = KNeighborsClassifier(n_neighbors = 19)\n",
    "kn.fit(x_train, y_train)"
   ]
  },
  {
   "cell_type": "code",
   "execution_count": null,
   "metadata": {},
   "outputs": [],
   "source": [
    "pred = kn.predict_proba(x_test)[:,1]\n",
    "roc_auc_score(y_test, pred)"
   ]
  },
  {
   "cell_type": "code",
   "execution_count": null,
   "metadata": {},
   "outputs": [],
   "source": []
  },
  {
   "cell_type": "code",
   "execution_count": null,
   "metadata": {},
   "outputs": [],
   "source": []
  },
  {
   "cell_type": "markdown",
   "metadata": {},
   "source": [
    "### 2. Voting 실행"
   ]
  },
  {
   "cell_type": "code",
   "execution_count": 139,
   "metadata": {},
   "outputs": [],
   "source": [
    "from sklearn.ensemble import VotingClassifier\n",
    "models = [('XGB', xgb),\n",
    "          ('RF', rf),\n",
    "          ('GB', gb)]\n",
    "hard_vot = VotingClassifier(estimators=models, voting='hard')\n",
    "soft_vot = VotingClassifier(estimators=models, voting='soft')\n",
    "\n",
    "#('LR', lr),('DT', dt),('AB', ab),('KNN', kn),"
   ]
  },
  {
   "cell_type": "code",
   "execution_count": null,
   "metadata": {},
   "outputs": [],
   "source": [
    "hard_vot.fit(x_train, y_train)"
   ]
  },
  {
   "cell_type": "code",
   "execution_count": null,
   "metadata": {},
   "outputs": [],
   "source": [
    "soft_vot.fit(x_train, y_train)"
   ]
  },
  {
   "cell_type": "markdown",
   "metadata": {},
   "source": [
    "### 3. Voting_ ROC 계산"
   ]
  },
  {
   "cell_type": "code",
   "execution_count": null,
   "metadata": {},
   "outputs": [],
   "source": [
    "from sklearn.metrics import roc_auc_score\n",
    "my_models = [xgb, rf, gb, hard_vot, soft_vot]\n",
    "for m in my_models:\n",
    "    try:\n",
    "        pred = m.predict_proba(x_test)[:,1] # test으로 계산.\n",
    "    except:\n",
    "        pred = m.predict(x_test)\n",
    "    name = m.__class__.__name__ # 이름\n",
    "    score = roc_auc_score(y_test, pred)\n",
    "    print('{0} ROC-AUC SCORE:  {1:.4f}'.format(name, score))"
   ]
  },
  {
   "cell_type": "code",
   "execution_count": null,
   "metadata": {},
   "outputs": [],
   "source": [
    "result['is_canceled'] = soft_vot.predict_proba(test)[:,1]\n",
    "result.to_csv('sof_vot7.csv', index = False)"
   ]
  },
  {
   "cell_type": "code",
   "execution_count": null,
   "metadata": {},
   "outputs": [],
   "source": []
  },
  {
   "cell_type": "code",
   "execution_count": null,
   "metadata": {},
   "outputs": [],
   "source": []
  },
  {
   "cell_type": "code",
   "execution_count": null,
   "metadata": {},
   "outputs": [],
   "source": []
  },
  {
   "cell_type": "code",
   "execution_count": null,
   "metadata": {},
   "outputs": [],
   "source": []
  },
  {
   "cell_type": "code",
   "execution_count": null,
   "metadata": {},
   "outputs": [],
   "source": []
  },
  {
   "cell_type": "code",
   "execution_count": null,
   "metadata": {},
   "outputs": [],
   "source": []
  },
  {
   "cell_type": "code",
   "execution_count": null,
   "metadata": {},
   "outputs": [],
   "source": []
  }
 ],
 "metadata": {
  "kernelspec": {
   "display_name": "Python 3",
   "language": "python",
   "name": "python3"
  },
  "language_info": {
   "codemirror_mode": {
    "name": "ipython",
    "version": 3
   },
   "file_extension": ".py",
   "mimetype": "text/x-python",
   "name": "python",
   "nbconvert_exporter": "python",
   "pygments_lexer": "ipython3",
   "version": "3.7.4"
  }
 },
 "nbformat": 4,
 "nbformat_minor": 2
}
