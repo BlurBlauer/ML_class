{
 "cells": [
  {
   "cell_type": "code",
   "execution_count": 1,
   "metadata": {},
   "outputs": [],
   "source": [
    "import pandas as pd\n",
    "import numpy as np\n",
    "import datetime as dt\n",
    "import matplotlib.pyplot as plt"
   ]
  },
  {
   "cell_type": "markdown",
   "metadata": {},
   "source": [
    "# Competition을 위한 데이터 처리"
   ]
  },
  {
   "cell_type": "code",
   "execution_count": 2,
   "metadata": {},
   "outputs": [],
   "source": [
    "mem_data = pd.read_csv('data/mem_data.csv')\n",
    "mem_tr = pd.read_csv('data/mem_transaction.csv')"
   ]
  },
  {
   "cell_type": "markdown",
   "metadata": {},
   "source": [
    "## 1. mem_data 처리"
   ]
  },
  {
   "cell_type": "markdown",
   "metadata": {},
   "source": [
    "#### 1.1 SMS 수신동의 정수 처리하기"
   ]
  },
  {
   "cell_type": "code",
   "execution_count": 3,
   "metadata": {},
   "outputs": [
    {
     "data": {
      "text/plain": [
       "Y    10575\n",
       "N      189\n",
       "Name: SMS, dtype: int64"
      ]
     },
     "execution_count": 3,
     "metadata": {},
     "output_type": "execute_result"
    }
   ],
   "source": [
    "mem_data.SMS.value_counts()"
   ]
  },
  {
   "cell_type": "code",
   "execution_count": 4,
   "metadata": {},
   "outputs": [
    {
     "data": {
      "text/plain": [
       "1    10575\n",
       "0      189\n",
       "Name: SMS, dtype: int64"
      ]
     },
     "execution_count": 4,
     "metadata": {},
     "output_type": "execute_result"
    }
   ],
   "source": [
    "mem_data.SMS = (mem_data.SMS=='Y').astype(int)\n",
    "mem_data.SMS.value_counts()"
   ]
  },
  {
   "cell_type": "markdown",
   "metadata": {},
   "source": [
    "#### 1.2 양/음력(BIRTH_SL) 정수 처리하기 "
   ]
  },
  {
   "cell_type": "code",
   "execution_count": 5,
   "metadata": {},
   "outputs": [
    {
     "data": {
      "text/plain": [
       "S    8973\n",
       "L    1791\n",
       "Name: BIRTH_SL, dtype: int64"
      ]
     },
     "execution_count": 5,
     "metadata": {},
     "output_type": "execute_result"
    }
   ],
   "source": [
    "mem_data.BIRTH_SL.value_counts()"
   ]
  },
  {
   "cell_type": "code",
   "execution_count": 6,
   "metadata": {
    "scrolled": false
   },
   "outputs": [
    {
     "data": {
      "text/plain": [
       "1    8973\n",
       "0    1791\n",
       "Name: BIRTH_SL, dtype: int64"
      ]
     },
     "execution_count": 6,
     "metadata": {},
     "output_type": "execute_result"
    }
   ],
   "source": [
    "mem_data.BIRTH_SL = (mem_data.BIRTH_SL=='S').astype(int)\n",
    "mem_data.BIRTH_SL.value_counts()"
   ]
  },
  {
   "cell_type": "markdown",
   "metadata": {},
   "source": [
    "#### 1.3 BIRTH_DT의 타입변환 및 년도 추출"
   ]
  },
  {
   "cell_type": "code",
   "execution_count": 7,
   "metadata": {
    "scrolled": false
   },
   "outputs": [],
   "source": [
    "mem_data['BIRTH_DT'] = mem_data['BIRTH_DT'].astype(str)\n",
    "mem_data['BIRTH_DT'] = mem_data['BIRTH_DT'].apply(lambda x : x[:4] if len(x) == 10 else 'NaN')\n",
    "mem_data['BIRTH_DT'] = mem_data['BIRTH_DT'].astype(float)\n",
    "# YYYY-MM-DD의 형식을 만족하지 않는 생일 데이터는 4779개이다.\n",
    "# 따라서 이외의 데이터는 모두 결측치로 판단한다."
   ]
  },
  {
   "cell_type": "code",
   "execution_count": 8,
   "metadata": {
    "scrolled": true
   },
   "outputs": [],
   "source": [
    "#2007년 시점에서 2004년 이상의 고객은 잘못된 데이터로 간주 이외의 데이터는 0을 넣음\n",
    "mem_data['BIRTH_DT'] = mem_data['BIRTH_DT'].apply(lambda x: x if x < 2004 else 0)\n",
    "mem_data['BIRTH_DT'] = mem_data['BIRTH_DT'].astype(int)"
   ]
  },
  {
   "cell_type": "markdown",
   "metadata": {},
   "source": [
    "#### 1.4 RGST_DT 등록일"
   ]
  },
  {
   "cell_type": "code",
   "execution_count": 9,
   "metadata": {},
   "outputs": [],
   "source": [
    "mem_data['RGST_DT'] = pd.to_datetime(mem_data['RGST_DT'], format = '%Y-%m-%d %H:%M:%S')"
   ]
  },
  {
   "cell_type": "markdown",
   "metadata": {},
   "source": [
    "#### 1.5 LAST_VST_DT(최근방문일자) 타입 변환"
   ]
  },
  {
   "cell_type": "code",
   "execution_count": 10,
   "metadata": {},
   "outputs": [],
   "source": [
    "mem_data['LAST_VST_DT'] = pd.to_datetime(mem_data['LAST_VST_DT'], format = '%Y-%m-%d %H:%M:%S')"
   ]
  },
  {
   "cell_type": "markdown",
   "metadata": {},
   "source": [
    "## 2. mem_data의 파생변수 생성"
   ]
  },
  {
   "cell_type": "markdown",
   "metadata": {},
   "source": [
    "#### 2.1 최근 방문 일자(LAST_VST_DT)로부터 경과일 구하기 - 'DOR_DAY'(dormacy:휴먼)"
   ]
  },
  {
   "cell_type": "code",
   "execution_count": 11,
   "metadata": {
    "scrolled": true
   },
   "outputs": [
    {
     "data": {
      "text/plain": [
       "0    345\n",
       "1     73\n",
       "2    214\n",
       "3     75\n",
       "4    280\n",
       "Name: DOR_DAY, dtype: int64"
      ]
     },
     "execution_count": 11,
     "metadata": {},
     "output_type": "execute_result"
    }
   ],
   "source": [
    "visit = (pd.to_datetime('2007-12-31') - mem_data['LAST_VST_DT']).dt.days\n",
    "mem_data['DOR_DAY'] = visit\n",
    "mem_data['DOR_DAY'].head()"
   ]
  },
  {
   "cell_type": "markdown",
   "metadata": {},
   "source": [
    "#### 2.2 등록일(RGST_DT)로부터 경과일 구하기 - 'VIS_DAY'"
   ]
  },
  {
   "cell_type": "code",
   "execution_count": 12,
   "metadata": {
    "scrolled": true
   },
   "outputs": [
    {
     "data": {
      "text/plain": [
       "0    694\n",
       "1    694\n",
       "2    694\n",
       "3    694\n",
       "4    694\n",
       "Name: VIS_DAY, dtype: int64"
      ]
     },
     "execution_count": 12,
     "metadata": {},
     "output_type": "execute_result"
    }
   ],
   "source": [
    "register = (pd.to_datetime('2007-12-31') - mem_data['RGST_DT']).dt.days\n",
    "mem_data['VIS_DAY'] = register\n",
    "mem_data['VIS_DAY'].head()"
   ]
  },
  {
   "cell_type": "markdown",
   "metadata": {},
   "source": [
    "#### 2.3 2007년 기준으로 고객의 나이 변수 생성 -AGE"
   ]
  },
  {
   "cell_type": "code",
   "execution_count": 13,
   "metadata": {
    "scrolled": true
   },
   "outputs": [
    {
     "data": {
      "text/plain": [
       "0     4803\n",
       "25     405\n",
       "26     395\n",
       "28     373\n",
       "24     371\n",
       "Name: AGE, dtype: int64"
      ]
     },
     "execution_count": 13,
     "metadata": {},
     "output_type": "execute_result"
    }
   ],
   "source": [
    "#### 한국 나이엔 +1 을 해야함.\n",
    "mem_data['AGE'] = 2007 - mem_data['BIRTH_DT'] + 1\n",
    "\n",
    "# 생일의 결측치인 0에 대한 값은 0으로 처리\n",
    "mem_data['AGE'] = mem_data['AGE'].apply(lambda x: 0 if x == 2008 else x)\n",
    "mem_data['AGE'].value_counts()[:5]"
   ]
  },
  {
   "cell_type": "markdown",
   "metadata": {},
   "source": [
    "#### 연령대가 0인 고객 = 결측치 이를  STORE의 연령대의 사람으로 대체"
   ]
  },
  {
   "cell_type": "code",
   "execution_count": 14,
   "metadata": {
    "scrolled": true
   },
   "outputs": [
    {
     "data": {
      "text/html": [
       "<div>\n",
       "<style scoped>\n",
       "    .dataframe tbody tr th:only-of-type {\n",
       "        vertical-align: middle;\n",
       "    }\n",
       "\n",
       "    .dataframe tbody tr th {\n",
       "        vertical-align: top;\n",
       "    }\n",
       "\n",
       "    .dataframe thead th {\n",
       "        text-align: right;\n",
       "    }\n",
       "</style>\n",
       "<table border=\"1\" class=\"dataframe\">\n",
       "  <thead>\n",
       "    <tr style=\"text-align: right;\">\n",
       "      <th></th>\n",
       "      <th>M_STORE_ID</th>\n",
       "      <th>PRED_AGE</th>\n",
       "    </tr>\n",
       "  </thead>\n",
       "  <tbody>\n",
       "    <tr>\n",
       "      <td>0</td>\n",
       "      <td>125</td>\n",
       "      <td>21.5</td>\n",
       "    </tr>\n",
       "    <tr>\n",
       "      <td>1</td>\n",
       "      <td>126</td>\n",
       "      <td>22.0</td>\n",
       "    </tr>\n",
       "    <tr>\n",
       "      <td>2</td>\n",
       "      <td>128</td>\n",
       "      <td>2.5</td>\n",
       "    </tr>\n",
       "    <tr>\n",
       "      <td>3</td>\n",
       "      <td>130</td>\n",
       "      <td>22.0</td>\n",
       "    </tr>\n",
       "    <tr>\n",
       "      <td>13</td>\n",
       "      <td>456</td>\n",
       "      <td>29.0</td>\n",
       "    </tr>\n",
       "  </tbody>\n",
       "</table>\n",
       "</div>"
      ],
      "text/plain": [
       "    M_STORE_ID  PRED_AGE\n",
       "0          125      21.5\n",
       "1          126      22.0\n",
       "2          128       2.5\n",
       "3          130      22.0\n",
       "13         456      29.0"
      ]
     },
     "execution_count": 14,
     "metadata": {},
     "output_type": "execute_result"
    }
   ],
   "source": [
    "#각 STORE에 따른 고객 나이의 중간값\n",
    "store_age = mem_data.groupby('M_STORE_ID')['AGE'].apply(lambda x: x.median()).reset_index()\n",
    "store_age.rename(columns = {'AGE': 'PRED_AGE'}, inplace = True)\n",
    "store_age = store_age.query('PRED_AGE ! = 0')\n",
    "store_age.head()"
   ]
  },
  {
   "cell_type": "code",
   "execution_count": 15,
   "metadata": {
    "scrolled": false
   },
   "outputs": [],
   "source": [
    "mem_data = mem_data.merge(store_age, how = 'left', on = 'M_STORE_ID')\n",
    "mem_data.iloc[:,-1] = mem_data.iloc[:,-1].fillna(0)\n",
    "mem_data['PRED_AGE'] = mem_data['PRED_AGE'].astype(int)"
   ]
  },
  {
   "cell_type": "code",
   "execution_count": 17,
   "metadata": {},
   "outputs": [],
   "source": [
    "def replace_age_pred(x):\n",
    "    pred_age_list = mem_data['PRED_AGE'].tolist()\n",
    "    for i in pred_age_list:\n",
    "        if x  < 1:\n",
    "            return i\n",
    "        else:\n",
    "            return x"
   ]
  },
  {
   "cell_type": "code",
   "execution_count": 18,
   "metadata": {},
   "outputs": [],
   "source": [
    "mem_data['F_AGE'] = mem_data['AGE'].apply(lambda x: replace_age_pred(x))"
   ]
  },
  {
   "cell_type": "code",
   "execution_count": null,
   "metadata": {},
   "outputs": [],
   "source": []
  },
  {
   "cell_type": "code",
   "execution_count": null,
   "metadata": {},
   "outputs": [],
   "source": []
  },
  {
   "cell_type": "code",
   "execution_count": null,
   "metadata": {},
   "outputs": [],
   "source": []
  },
  {
   "cell_type": "code",
   "execution_count": null,
   "metadata": {},
   "outputs": [],
   "source": []
  },
  {
   "cell_type": "markdown",
   "metadata": {},
   "source": [
    "#### 2.4 연령대 더미변수- AGE_0, AGE_10, AGE_0, AGE_20, AGE_30, AGE_40,  AGE_50, AGE_A60"
   ]
  },
  {
   "cell_type": "code",
   "execution_count": 19,
   "metadata": {},
   "outputs": [],
   "source": [
    "# 더미변수 생성을 위한 'AGE_G'칼럼 생성\n",
    "def age_classifier(x):\n",
    "    if x > 0 and x < 20:\n",
    "        return '10'\n",
    "    elif x >= 20 and x < 30:\n",
    "        return '20'\n",
    "    elif x >= 30 and x < 40:\n",
    "        return '30'\n",
    "    elif x >= 40 and x < 50:\n",
    "        return '40'\n",
    "    elif x >= 50 and x <60:\n",
    "        return '50'\n",
    "    elif x >= 60:\n",
    "        return 'A_60' # 60이상의 데이터는 적기 때문에 60세 이상의 고객은 하나의 그룹으로 설정.\n",
    "    else:\n",
    "        return '0'"
   ]
  },
  {
   "cell_type": "code",
   "execution_count": 20,
   "metadata": {},
   "outputs": [],
   "source": [
    "mem_data['AGE_G'] = mem_data['AGE'].apply(lambda x: age_classifier(x))"
   ]
  },
  {
   "cell_type": "code",
   "execution_count": 21,
   "metadata": {},
   "outputs": [],
   "source": [
    "#각 연령대의 더미변수 생성\n",
    "mem_data['AGE_0']= mem_data['AGE_G'].apply(lambda x: 1 if x == '0' else 0)\n",
    "mem_data['AGE_10']= mem_data['AGE_G'].apply(lambda x: 1 if x == '10' else 0)\n",
    "mem_data['AGE_20']= mem_data['AGE_G'].apply(lambda x: 1 if x == '20' else 0)\n",
    "mem_data['AGE_30']= mem_data['AGE_G'].apply(lambda x: 1 if x == '30' else 0)\n",
    "mem_data['AGE_40']= mem_data['AGE_G'].apply(lambda x: 1 if x == '40' else 0)\n",
    "mem_data['AGE_50']= mem_data['AGE_G'].apply(lambda x: 1 if x == '50' else 0)\n",
    "mem_data['AGE_A60']= mem_data['AGE_G'].apply(lambda x: 1 if x == '60' else 0)\n"
   ]
  },
  {
   "cell_type": "markdown",
   "metadata": {},
   "source": [
    "#### 2.4 우편번호(ZIP_CD)에서 광역행정구역 칼럼 추가 - REGION"
   ]
  },
  {
   "cell_type": "code",
   "execution_count": 22,
   "metadata": {},
   "outputs": [
    {
     "data": {
      "text/plain": [
       "4    870\n",
       "1    295\n",
       "6    134\n",
       "7     30\n",
       "3     20\n",
       "5     19\n",
       "2      7\n",
       "Name: ZIP_CD, dtype: int64"
      ]
     },
     "execution_count": 22,
     "metadata": {},
     "output_type": "execute_result"
    }
   ],
   "source": [
    "# 우편번호(ZIP_CD)에서 대부분의 행정구역은 '4'로 인천 또는 경기도에 거주하는 사람이다.\n",
    "mem_data.query('ZIP_CD != \"-\"')['ZIP_CD'].str[:1].value_counts()"
   ]
  },
  {
   "cell_type": "code",
   "execution_count": 23,
   "metadata": {
    "scrolled": true
   },
   "outputs": [
    {
     "data": {
      "text/plain": [
       "0    0\n",
       "1    4\n",
       "2    0\n",
       "3    4\n",
       "4    0\n",
       "Name: REGION, dtype: int32"
      ]
     },
     "execution_count": 23,
     "metadata": {},
     "output_type": "execute_result"
    }
   ],
   "source": [
    "zip_cd = [x[0] for x in mem_data.ZIP_CD]\n",
    "mem_data['REGION'] = zip_cd\n",
    "mem_data['REGION'] = mem_data['REGION'].where(mem_data['REGION'] != '-', other=0).astype(int)\n",
    "mem_data['REGION'].head()"
   ]
  },
  {
   "cell_type": "markdown",
   "metadata": {},
   "source": [
    "#### 2.5 쇼핑몰에는 남자와 여자로 구분할 수 있을 것 - F_ST, M_ST"
   ]
  },
  {
   "cell_type": "code",
   "execution_count": 25,
   "metadata": {},
   "outputs": [
    {
     "data": {
      "text/html": [
       "<div>\n",
       "<style scoped>\n",
       "    .dataframe tbody tr th:only-of-type {\n",
       "        vertical-align: middle;\n",
       "    }\n",
       "\n",
       "    .dataframe tbody tr th {\n",
       "        vertical-align: top;\n",
       "    }\n",
       "\n",
       "    .dataframe thead th {\n",
       "        text-align: right;\n",
       "    }\n",
       "</style>\n",
       "<table border=\"1\" class=\"dataframe\">\n",
       "  <thead>\n",
       "    <tr style=\"text-align: right;\">\n",
       "      <th></th>\n",
       "      <th>M_STORE_ID</th>\n",
       "      <th>CNT</th>\n",
       "    </tr>\n",
       "  </thead>\n",
       "  <tbody>\n",
       "    <tr>\n",
       "      <td>65</td>\n",
       "      <td>997</td>\n",
       "      <td>1431</td>\n",
       "    </tr>\n",
       "    <tr>\n",
       "      <td>168</td>\n",
       "      <td>2273</td>\n",
       "      <td>626</td>\n",
       "    </tr>\n",
       "    <tr>\n",
       "      <td>74</td>\n",
       "      <td>1113</td>\n",
       "      <td>146</td>\n",
       "    </tr>\n",
       "    <tr>\n",
       "      <td>167</td>\n",
       "      <td>2266</td>\n",
       "      <td>143</td>\n",
       "    </tr>\n",
       "    <tr>\n",
       "      <td>42</td>\n",
       "      <td>781</td>\n",
       "      <td>142</td>\n",
       "    </tr>\n",
       "  </tbody>\n",
       "</table>\n",
       "</div>"
      ],
      "text/plain": [
       "     M_STORE_ID   CNT\n",
       "65          997  1431\n",
       "168        2273   626\n",
       "74         1113   146\n",
       "167        2266   143\n",
       "42          781   142"
      ]
     },
     "execution_count": 25,
     "metadata": {},
     "output_type": "execute_result"
    }
   ],
   "source": [
    "# 여성들이 많이 사용하는 쇼핑몰\n",
    "f_store = mem_data.query('GENDER == \"F\"').groupby('M_STORE_ID')['MEM_ID'].agg([\n",
    "    ('CNT', np.size)\n",
    "]).reset_index()\n",
    "f_store = f_store.sort_values(by = 'CNT', ascending = False)\n",
    "f_store.head()"
   ]
  },
  {
   "cell_type": "code",
   "execution_count": 26,
   "metadata": {},
   "outputs": [
    {
     "data": {
      "text/html": [
       "<div>\n",
       "<style scoped>\n",
       "    .dataframe tbody tr th:only-of-type {\n",
       "        vertical-align: middle;\n",
       "    }\n",
       "\n",
       "    .dataframe tbody tr th {\n",
       "        vertical-align: top;\n",
       "    }\n",
       "\n",
       "    .dataframe thead th {\n",
       "        text-align: right;\n",
       "    }\n",
       "</style>\n",
       "<table border=\"1\" class=\"dataframe\">\n",
       "  <thead>\n",
       "    <tr style=\"text-align: right;\">\n",
       "      <th></th>\n",
       "      <th>M_STORE_ID</th>\n",
       "      <th>CNT</th>\n",
       "    </tr>\n",
       "  </thead>\n",
       "  <tbody>\n",
       "    <tr>\n",
       "      <td>87</td>\n",
       "      <td>997</td>\n",
       "      <td>212</td>\n",
       "    </tr>\n",
       "    <tr>\n",
       "      <td>132</td>\n",
       "      <td>1254</td>\n",
       "      <td>169</td>\n",
       "    </tr>\n",
       "    <tr>\n",
       "      <td>229</td>\n",
       "      <td>1870</td>\n",
       "      <td>122</td>\n",
       "    </tr>\n",
       "    <tr>\n",
       "      <td>92</td>\n",
       "      <td>1027</td>\n",
       "      <td>95</td>\n",
       "    </tr>\n",
       "    <tr>\n",
       "      <td>2</td>\n",
       "      <td>130</td>\n",
       "      <td>84</td>\n",
       "    </tr>\n",
       "  </tbody>\n",
       "</table>\n",
       "</div>"
      ],
      "text/plain": [
       "     M_STORE_ID  CNT\n",
       "87          997  212\n",
       "132        1254  169\n",
       "229        1870  122\n",
       "92         1027   95\n",
       "2           130   84"
      ]
     },
     "execution_count": 26,
     "metadata": {},
     "output_type": "execute_result"
    }
   ],
   "source": [
    "#남성들이 많이 사용하는 쇼핑몰\n",
    "m_store = mem_data.query('GENDER == \"M\"').groupby('M_STORE_ID')['MEM_ID'].agg([\n",
    "    ('CNT', np.size)\n",
    "]).reset_index()\n",
    "m_store = m_store.sort_values(by = 'CNT', ascending = False)\n",
    "m_store.head()"
   ]
  },
  {
   "cell_type": "code",
   "execution_count": 27,
   "metadata": {},
   "outputs": [],
   "source": [
    "# 각 성별에 따른 상위 50개의 store_id를 집합 연산을 통해 여성중심의 스토어와 남성중심의 스토어를 찾아냄\n",
    "a = set(f_store['M_STORE_ID'][:70].tolist())\n",
    "b = set(m_store['M_STORE_ID'][:70].tolist())\n",
    "\n",
    "# 차지합을 통해 여성, 남성 중심의 store_id list를 생성\n",
    "#female = list(a-b)\n",
    "#male = list(b-a)"
   ]
  },
  {
   "cell_type": "code",
   "execution_count": 28,
   "metadata": {},
   "outputs": [],
   "source": [
    "mem_data['F_ST'] = mem_data['M_STORE_ID'].apply(lambda x: 1 if x in a else 0)\n",
    "mem_data['M_ST'] = mem_data['M_STORE_ID'].apply(lambda x: 1 if x in b else 0)"
   ]
  },
  {
   "cell_type": "markdown",
   "metadata": {},
   "source": [
    "#### 2.6 방문회수에 따른 구매금액 - SAL/VIST"
   ]
  },
  {
   "cell_type": "code",
   "execution_count": 29,
   "metadata": {},
   "outputs": [],
   "source": [
    "# 구매 금액을 방문횟수로 나누어 방문회수당 구매금액 칼럼 추가\n",
    "mem_data['SAL/VIST'] = round(mem_data['SALES_AMT'] / mem_data['VISIT_CNT'])"
   ]
  },
  {
   "cell_type": "markdown",
   "metadata": {},
   "source": [
    "#### mem_data 변수 선택"
   ]
  },
  {
   "cell_type": "code",
   "execution_count": 30,
   "metadata": {},
   "outputs": [],
   "source": [
    "#불필요한 변수 삭제\n",
    "d_cols = ['M_STORE_ID', 'BIRTH_DT', 'BIRTH_SL', 'ZIP_CD', 'RGST_DT', 'LAST_VST_DT', 'AGE_G']"
   ]
  },
  {
   "cell_type": "code",
   "execution_count": 31,
   "metadata": {},
   "outputs": [
    {
     "data": {
      "text/html": [
       "<div>\n",
       "<style scoped>\n",
       "    .dataframe tbody tr th:only-of-type {\n",
       "        vertical-align: middle;\n",
       "    }\n",
       "\n",
       "    .dataframe tbody tr th {\n",
       "        vertical-align: top;\n",
       "    }\n",
       "\n",
       "    .dataframe thead th {\n",
       "        text-align: right;\n",
       "    }\n",
       "</style>\n",
       "<table border=\"1\" class=\"dataframe\">\n",
       "  <thead>\n",
       "    <tr style=\"text-align: right;\">\n",
       "      <th></th>\n",
       "      <th>MEM_ID</th>\n",
       "      <th>GENDER</th>\n",
       "      <th>VISIT_CNT</th>\n",
       "      <th>SALES_AMT</th>\n",
       "      <th>USABLE_PNT</th>\n",
       "      <th>USED_PNT</th>\n",
       "      <th>ACC_PNT</th>\n",
       "      <th>USABLE_INIT</th>\n",
       "      <th>SMS</th>\n",
       "      <th>DOR_DAY</th>\n",
       "      <th>...</th>\n",
       "      <th>AGE_10</th>\n",
       "      <th>AGE_20</th>\n",
       "      <th>AGE_30</th>\n",
       "      <th>AGE_40</th>\n",
       "      <th>AGE_50</th>\n",
       "      <th>AGE_A60</th>\n",
       "      <th>REGION</th>\n",
       "      <th>F_ST</th>\n",
       "      <th>M_ST</th>\n",
       "      <th>SAL/VIST</th>\n",
       "    </tr>\n",
       "  </thead>\n",
       "  <tbody>\n",
       "    <tr>\n",
       "      <td>0</td>\n",
       "      <td>1134945</td>\n",
       "      <td>M</td>\n",
       "      <td>8.0</td>\n",
       "      <td>337000.0</td>\n",
       "      <td>6740.0</td>\n",
       "      <td>0.0</td>\n",
       "      <td>6740.0</td>\n",
       "      <td>3202.0</td>\n",
       "      <td>1</td>\n",
       "      <td>345</td>\n",
       "      <td>...</td>\n",
       "      <td>0</td>\n",
       "      <td>0</td>\n",
       "      <td>0</td>\n",
       "      <td>0</td>\n",
       "      <td>0</td>\n",
       "      <td>0</td>\n",
       "      <td>0</td>\n",
       "      <td>0</td>\n",
       "      <td>1</td>\n",
       "      <td>42125.0</td>\n",
       "    </tr>\n",
       "    <tr>\n",
       "      <td>1</td>\n",
       "      <td>38458</td>\n",
       "      <td>F</td>\n",
       "      <td>22.0</td>\n",
       "      <td>1438500.0</td>\n",
       "      <td>1732.0</td>\n",
       "      <td>12000.0</td>\n",
       "      <td>13732.0</td>\n",
       "      <td>17762.0</td>\n",
       "      <td>1</td>\n",
       "      <td>73</td>\n",
       "      <td>...</td>\n",
       "      <td>0</td>\n",
       "      <td>0</td>\n",
       "      <td>1</td>\n",
       "      <td>0</td>\n",
       "      <td>0</td>\n",
       "      <td>0</td>\n",
       "      <td>4</td>\n",
       "      <td>1</td>\n",
       "      <td>1</td>\n",
       "      <td>65386.0</td>\n",
       "    </tr>\n",
       "    <tr>\n",
       "      <td>2</td>\n",
       "      <td>7009</td>\n",
       "      <td>F</td>\n",
       "      <td>8.0</td>\n",
       "      <td>309300.0</td>\n",
       "      <td>6372.0</td>\n",
       "      <td>0.0</td>\n",
       "      <td>6372.0</td>\n",
       "      <td>1856.0</td>\n",
       "      <td>1</td>\n",
       "      <td>214</td>\n",
       "      <td>...</td>\n",
       "      <td>0</td>\n",
       "      <td>0</td>\n",
       "      <td>1</td>\n",
       "      <td>0</td>\n",
       "      <td>0</td>\n",
       "      <td>0</td>\n",
       "      <td>0</td>\n",
       "      <td>1</td>\n",
       "      <td>1</td>\n",
       "      <td>38662.0</td>\n",
       "    </tr>\n",
       "    <tr>\n",
       "      <td>3</td>\n",
       "      <td>91791</td>\n",
       "      <td>UNKNOWN</td>\n",
       "      <td>11.0</td>\n",
       "      <td>170400.0</td>\n",
       "      <td>3408.0</td>\n",
       "      <td>0.0</td>\n",
       "      <td>3408.0</td>\n",
       "      <td>236.0</td>\n",
       "      <td>1</td>\n",
       "      <td>75</td>\n",
       "      <td>...</td>\n",
       "      <td>0</td>\n",
       "      <td>0</td>\n",
       "      <td>0</td>\n",
       "      <td>1</td>\n",
       "      <td>0</td>\n",
       "      <td>0</td>\n",
       "      <td>4</td>\n",
       "      <td>1</td>\n",
       "      <td>1</td>\n",
       "      <td>15491.0</td>\n",
       "    </tr>\n",
       "    <tr>\n",
       "      <td>4</td>\n",
       "      <td>1374842</td>\n",
       "      <td>M</td>\n",
       "      <td>3.0</td>\n",
       "      <td>110300.0</td>\n",
       "      <td>2206.0</td>\n",
       "      <td>0.0</td>\n",
       "      <td>2206.0</td>\n",
       "      <td>1522.0</td>\n",
       "      <td>1</td>\n",
       "      <td>280</td>\n",
       "      <td>...</td>\n",
       "      <td>0</td>\n",
       "      <td>0</td>\n",
       "      <td>0</td>\n",
       "      <td>0</td>\n",
       "      <td>0</td>\n",
       "      <td>0</td>\n",
       "      <td>0</td>\n",
       "      <td>0</td>\n",
       "      <td>1</td>\n",
       "      <td>36767.0</td>\n",
       "    </tr>\n",
       "  </tbody>\n",
       "</table>\n",
       "<p>5 rows × 25 columns</p>\n",
       "</div>"
      ],
      "text/plain": [
       "    MEM_ID   GENDER  VISIT_CNT  SALES_AMT  USABLE_PNT  USED_PNT  ACC_PNT  \\\n",
       "0  1134945        M        8.0   337000.0      6740.0       0.0   6740.0   \n",
       "1    38458        F       22.0  1438500.0      1732.0   12000.0  13732.0   \n",
       "2     7009        F        8.0   309300.0      6372.0       0.0   6372.0   \n",
       "3    91791  UNKNOWN       11.0   170400.0      3408.0       0.0   3408.0   \n",
       "4  1374842        M        3.0   110300.0      2206.0       0.0   2206.0   \n",
       "\n",
       "   USABLE_INIT  SMS  DOR_DAY  ...  AGE_10  AGE_20  AGE_30  AGE_40  AGE_50  \\\n",
       "0       3202.0    1      345  ...       0       0       0       0       0   \n",
       "1      17762.0    1       73  ...       0       0       1       0       0   \n",
       "2       1856.0    1      214  ...       0       0       1       0       0   \n",
       "3        236.0    1       75  ...       0       0       0       1       0   \n",
       "4       1522.0    1      280  ...       0       0       0       0       0   \n",
       "\n",
       "   AGE_A60  REGION  F_ST  M_ST  SAL/VIST  \n",
       "0        0       0     0     1   42125.0  \n",
       "1        0       4     1     1   65386.0  \n",
       "2        0       0     1     1   38662.0  \n",
       "3        0       4     1     1   15491.0  \n",
       "4        0       0     0     1   36767.0  \n",
       "\n",
       "[5 rows x 25 columns]"
      ]
     },
     "execution_count": 31,
     "metadata": {},
     "output_type": "execute_result"
    }
   ],
   "source": [
    "mem_data.drop(d_cols, axis = 1, inplace = True)\n",
    "mem_data.head()"
   ]
  },
  {
   "cell_type": "markdown",
   "metadata": {},
   "source": [
    "##  4. mem_ transaction 데이터를 병합하여 변수 생성"
   ]
  },
  {
   "cell_type": "markdown",
   "metadata": {},
   "source": [
    "#### 4.1 평균 구매액- BUY_MEAN"
   ]
  },
  {
   "cell_type": "code",
   "execution_count": 32,
   "metadata": {},
   "outputs": [],
   "source": [
    "f = mem_tr.groupby('MEM_ID')['SELL_AMT'].agg([\n",
    "    ('BUY_MEAN', lambda x:round(x.mean()) )\n",
    "]).reset_index()\n",
    "\n",
    "mem_data = mem_data.merge(f, how='left')\n",
    "mem_data.iloc[:,-1] = mem_data.iloc[:,-1].fillna(0)"
   ]
  },
  {
   "cell_type": "markdown",
   "metadata": {},
   "source": [
    "#### 4.2 포인트 적립 횟수-POINT_N"
   ]
  },
  {
   "cell_type": "code",
   "execution_count": 33,
   "metadata": {},
   "outputs": [],
   "source": [
    "f = mem_tr[mem_tr.MEMP_TP=='A'].groupby('MEM_ID')['SELL_AMT'].agg('size').reset_index()\n",
    "f.columns = ['MEM_ID','POINT_N']\n",
    "mem_data = mem_data.merge(f, how='left')\n",
    "mem_data.iloc[:,-1] = mem_data.iloc[:,-1].fillna(0)"
   ]
  },
  {
   "cell_type": "markdown",
   "metadata": {},
   "source": [
    "#### 4.3 최빈 구매요일- MOST_FREQ_D"
   ]
  },
  {
   "cell_type": "code",
   "execution_count": 34,
   "metadata": {
    "scrolled": false
   },
   "outputs": [],
   "source": [
    "# SELL_DT를 datatime 타입으로 변환\n",
    "mem_tr['SELL_DT'] = pd.to_datetime(mem_tr['SELL_DT'], format = '%Y%m%d')\n",
    "# 요일을 의미하는 변수를 transaction으로 설정\n",
    "mem_tr['D_WEEK'] = mem_tr['SELL_DT'].dt.weekday"
   ]
  },
  {
   "cell_type": "markdown",
   "metadata": {},
   "source": [
    "#최빈 구매요일\n",
    "f = mem_tr.groupby('MEM_ID')['D_WEEK'].agg([\n",
    "    ('MOST_FREQ_D', lambda x: x.mode()[0])\n",
    "]).reset_index()\n",
    "\n",
    "mem_data = mem_data.merge(f, how='left')\n",
    "mem_data.iloc[:,-1] = mem_data.iloc[:,-1].fillna(0)"
   ]
  },
  {
   "cell_type": "markdown",
   "metadata": {},
   "source": [
    "#### 4.4 주말, 주중 구매 횟수- WEEKEND_CNT, WEEK_CNT"
   ]
  },
  {
   "cell_type": "code",
   "execution_count": 35,
   "metadata": {},
   "outputs": [],
   "source": [
    "mem_tr['WEEKEND_CNT'] = mem_tr['D_WEEK'].apply(lambda x: 1 if x >= 5 else 0)\n",
    "mem_tr['WEEK_CNT'] = mem_tr['D_WEEK'].apply(lambda x: 1 if x < 5 else 0)"
   ]
  },
  {
   "cell_type": "code",
   "execution_count": 36,
   "metadata": {},
   "outputs": [],
   "source": [
    "#주말 구매 횟수\n",
    "f = mem_tr.groupby('MEM_ID')['WEEKEND_CNT'].sum().reset_index()\n",
    "mem_data = mem_data.merge(f, how='left')"
   ]
  },
  {
   "cell_type": "code",
   "execution_count": 37,
   "metadata": {
    "scrolled": false
   },
   "outputs": [],
   "source": [
    "#주중 구매횟수\n",
    "f = mem_tr.groupby('MEM_ID')['WEEK_CNT'].sum().reset_index()\n",
    "mem_data = mem_data.merge(f, how='left')"
   ]
  },
  {
   "cell_type": "markdown",
   "metadata": {},
   "source": [
    "#### 4.5 주말 중심 구매 고객인지  주중 중심 구매 인지 - WEEKEND_FREQ"
   ]
  },
  {
   "cell_type": "code",
   "execution_count": 38,
   "metadata": {},
   "outputs": [],
   "source": [
    "def select_freq_w(x):\n",
    "    w_cnt = mem_data['WEEK_CNT'].tolist()\n",
    "    for i in w_cnt:\n",
    "        if x > i:\n",
    "            return 1\n",
    "        else:\n",
    "            return 0    "
   ]
  },
  {
   "cell_type": "code",
   "execution_count": 39,
   "metadata": {
    "scrolled": true
   },
   "outputs": [
    {
     "data": {
      "text/html": [
       "<div>\n",
       "<style scoped>\n",
       "    .dataframe tbody tr th:only-of-type {\n",
       "        vertical-align: middle;\n",
       "    }\n",
       "\n",
       "    .dataframe tbody tr th {\n",
       "        vertical-align: top;\n",
       "    }\n",
       "\n",
       "    .dataframe thead th {\n",
       "        text-align: right;\n",
       "    }\n",
       "</style>\n",
       "<table border=\"1\" class=\"dataframe\">\n",
       "  <thead>\n",
       "    <tr style=\"text-align: right;\">\n",
       "      <th></th>\n",
       "      <th>MEM_ID</th>\n",
       "      <th>GENDER</th>\n",
       "      <th>VISIT_CNT</th>\n",
       "      <th>SALES_AMT</th>\n",
       "      <th>USABLE_PNT</th>\n",
       "      <th>USED_PNT</th>\n",
       "      <th>ACC_PNT</th>\n",
       "      <th>USABLE_INIT</th>\n",
       "      <th>SMS</th>\n",
       "      <th>DOR_DAY</th>\n",
       "      <th>...</th>\n",
       "      <th>AGE_A60</th>\n",
       "      <th>REGION</th>\n",
       "      <th>F_ST</th>\n",
       "      <th>M_ST</th>\n",
       "      <th>SAL/VIST</th>\n",
       "      <th>BUY_MEAN</th>\n",
       "      <th>POINT_N</th>\n",
       "      <th>WEEKEND_CNT</th>\n",
       "      <th>WEEK_CNT</th>\n",
       "      <th>WEEKEND_FREQ</th>\n",
       "    </tr>\n",
       "  </thead>\n",
       "  <tbody>\n",
       "    <tr>\n",
       "      <td>0</td>\n",
       "      <td>1134945</td>\n",
       "      <td>M</td>\n",
       "      <td>8.0</td>\n",
       "      <td>337000.0</td>\n",
       "      <td>6740.0</td>\n",
       "      <td>0.0</td>\n",
       "      <td>6740.0</td>\n",
       "      <td>3202.0</td>\n",
       "      <td>1</td>\n",
       "      <td>345</td>\n",
       "      <td>...</td>\n",
       "      <td>0</td>\n",
       "      <td>0</td>\n",
       "      <td>0</td>\n",
       "      <td>1</td>\n",
       "      <td>42125.0</td>\n",
       "      <td>16262</td>\n",
       "      <td>8</td>\n",
       "      <td>0</td>\n",
       "      <td>8</td>\n",
       "      <td>0</td>\n",
       "    </tr>\n",
       "    <tr>\n",
       "      <td>1</td>\n",
       "      <td>38458</td>\n",
       "      <td>F</td>\n",
       "      <td>22.0</td>\n",
       "      <td>1438500.0</td>\n",
       "      <td>1732.0</td>\n",
       "      <td>12000.0</td>\n",
       "      <td>13732.0</td>\n",
       "      <td>17762.0</td>\n",
       "      <td>1</td>\n",
       "      <td>73</td>\n",
       "      <td>...</td>\n",
       "      <td>0</td>\n",
       "      <td>4</td>\n",
       "      <td>1</td>\n",
       "      <td>1</td>\n",
       "      <td>65386.0</td>\n",
       "      <td>25018</td>\n",
       "      <td>22</td>\n",
       "      <td>3</td>\n",
       "      <td>19</td>\n",
       "      <td>0</td>\n",
       "    </tr>\n",
       "    <tr>\n",
       "      <td>2</td>\n",
       "      <td>7009</td>\n",
       "      <td>F</td>\n",
       "      <td>8.0</td>\n",
       "      <td>309300.0</td>\n",
       "      <td>6372.0</td>\n",
       "      <td>0.0</td>\n",
       "      <td>6372.0</td>\n",
       "      <td>1856.0</td>\n",
       "      <td>1</td>\n",
       "      <td>214</td>\n",
       "      <td>...</td>\n",
       "      <td>0</td>\n",
       "      <td>0</td>\n",
       "      <td>1</td>\n",
       "      <td>1</td>\n",
       "      <td>38662.0</td>\n",
       "      <td>22025</td>\n",
       "      <td>8</td>\n",
       "      <td>2</td>\n",
       "      <td>6</td>\n",
       "      <td>0</td>\n",
       "    </tr>\n",
       "    <tr>\n",
       "      <td>3</td>\n",
       "      <td>91791</td>\n",
       "      <td>UNKNOWN</td>\n",
       "      <td>11.0</td>\n",
       "      <td>170400.0</td>\n",
       "      <td>3408.0</td>\n",
       "      <td>0.0</td>\n",
       "      <td>3408.0</td>\n",
       "      <td>236.0</td>\n",
       "      <td>1</td>\n",
       "      <td>75</td>\n",
       "      <td>...</td>\n",
       "      <td>0</td>\n",
       "      <td>4</td>\n",
       "      <td>1</td>\n",
       "      <td>1</td>\n",
       "      <td>15491.0</td>\n",
       "      <td>14418</td>\n",
       "      <td>11</td>\n",
       "      <td>2</td>\n",
       "      <td>9</td>\n",
       "      <td>0</td>\n",
       "    </tr>\n",
       "    <tr>\n",
       "      <td>4</td>\n",
       "      <td>1374842</td>\n",
       "      <td>M</td>\n",
       "      <td>3.0</td>\n",
       "      <td>110300.0</td>\n",
       "      <td>2206.0</td>\n",
       "      <td>0.0</td>\n",
       "      <td>2206.0</td>\n",
       "      <td>1522.0</td>\n",
       "      <td>1</td>\n",
       "      <td>280</td>\n",
       "      <td>...</td>\n",
       "      <td>0</td>\n",
       "      <td>0</td>\n",
       "      <td>0</td>\n",
       "      <td>1</td>\n",
       "      <td>36767.0</td>\n",
       "      <td>11400</td>\n",
       "      <td>3</td>\n",
       "      <td>2</td>\n",
       "      <td>1</td>\n",
       "      <td>0</td>\n",
       "    </tr>\n",
       "  </tbody>\n",
       "</table>\n",
       "<p>5 rows × 30 columns</p>\n",
       "</div>"
      ],
      "text/plain": [
       "    MEM_ID   GENDER  VISIT_CNT  SALES_AMT  USABLE_PNT  USED_PNT  ACC_PNT  \\\n",
       "0  1134945        M        8.0   337000.0      6740.0       0.0   6740.0   \n",
       "1    38458        F       22.0  1438500.0      1732.0   12000.0  13732.0   \n",
       "2     7009        F        8.0   309300.0      6372.0       0.0   6372.0   \n",
       "3    91791  UNKNOWN       11.0   170400.0      3408.0       0.0   3408.0   \n",
       "4  1374842        M        3.0   110300.0      2206.0       0.0   2206.0   \n",
       "\n",
       "   USABLE_INIT  SMS  DOR_DAY  ...  AGE_A60  REGION  F_ST  M_ST  SAL/VIST  \\\n",
       "0       3202.0    1      345  ...        0       0     0     1   42125.0   \n",
       "1      17762.0    1       73  ...        0       4     1     1   65386.0   \n",
       "2       1856.0    1      214  ...        0       0     1     1   38662.0   \n",
       "3        236.0    1       75  ...        0       4     1     1   15491.0   \n",
       "4       1522.0    1      280  ...        0       0     0     1   36767.0   \n",
       "\n",
       "   BUY_MEAN  POINT_N  WEEKEND_CNT  WEEK_CNT  WEEKEND_FREQ  \n",
       "0     16262        8            0         8             0  \n",
       "1     25018       22            3        19             0  \n",
       "2     22025        8            2         6             0  \n",
       "3     14418       11            2         9             0  \n",
       "4     11400        3            2         1             0  \n",
       "\n",
       "[5 rows x 30 columns]"
      ]
     },
     "execution_count": 39,
     "metadata": {},
     "output_type": "execute_result"
    }
   ],
   "source": [
    "mem_data['WEEKEND_FREQ']= mem_data['WEEKEND_CNT'].apply(lambda x: select_freq_w(x))\n",
    "mem_data.head()"
   ]
  },
  {
   "cell_type": "markdown",
   "metadata": {},
   "source": [
    "#### 4.6 시간대별 표인트 적립 건수 구하기 : Morning(09-12) / Afternoon(13-17) / Evening(18-20) - MORN, AFTR, EVEN"
   ]
  },
  {
   "cell_type": "code",
   "execution_count": 40,
   "metadata": {},
   "outputs": [],
   "source": [
    "# MEMP_DT 변수를 datetime으로 변환\n",
    "mem_tr['MEMP_DT'] = pd.to_datetime(mem_tr['MEMP_DT'], format = '%Y-%m-%d %H:%M:%S')"
   ]
  },
  {
   "cell_type": "code",
   "execution_count": 41,
   "metadata": {},
   "outputs": [],
   "source": [
    "mem_tr['MEMP_HR'] = mem_tr['MEMP_DT'].dt.hour.apply(lambda x: 'M' if x >= 9 and x <= 12\n",
    "                               else 'A' if x >= 13 and x <= 17\n",
    "                               else 'E')"
   ]
  },
  {
   "cell_type": "code",
   "execution_count": 42,
   "metadata": {},
   "outputs": [],
   "source": [
    "f = mem_tr.groupby('MEM_ID')['MEMP_HR'].agg([\n",
    "    ('MEMP_HR', lambda x: x.mode()[0])\n",
    "]).reset_index()\n",
    "mem_data = mem_data.merge(f, how='left')\n",
    "mem_data.iloc[:,-1] = mem_data.iloc[:,-1].fillna(0)"
   ]
  },
  {
   "cell_type": "code",
   "execution_count": 43,
   "metadata": {},
   "outputs": [],
   "source": [
    "# 최빈 구매 시간 변수를 더미변수로 생성\n",
    "mem_data['MORN']= mem_data['MEMP_HR'].apply(lambda x: 1 if x == 'M' else 0)\n",
    "mem_data['AFTR']= mem_data['MEMP_HR'].apply(lambda x: 1 if x == 'A' else 0)\n",
    "mem_data['EVEN']= mem_data['MEMP_HR'].apply(lambda x: 1 if x == 'E' else 0)"
   ]
  },
  {
   "cell_type": "markdown",
   "metadata": {},
   "source": [
    "#### 4.7 계절에 따른 구매- TR_SP, TR_SM, TR_FL, TR_WT"
   ]
  },
  {
   "cell_type": "code",
   "execution_count": 44,
   "metadata": {},
   "outputs": [],
   "source": [
    "# 각 거래 내역의 '월 칼럼 생성'\n",
    "mem_tr['SELL_M'] = mem_tr['SELL_DT'].apply(lambda x: x.month)"
   ]
  },
  {
   "cell_type": "code",
   "execution_count": 45,
   "metadata": {},
   "outputs": [],
   "source": [
    "# 고객별 계절에 따른 구매 건수\n",
    "spring = mem_tr.query('SELL_M == 3 or SELL_M ==4 or SELL_M ==5').groupby('MEM_ID')['SELL_M'].count().reset_index()\n",
    "spring.rename(columns = {'SELL_M' : 'TR_SP'}, inplace = True)\n",
    "\n",
    "summer = mem_tr.query('SELL_M == 6 or SELL_M ==7 or SELL_M ==8').groupby('MEM_ID')['SELL_M'].count().reset_index()\n",
    "summer.rename(columns = {'SELL_M' : 'TR_SM'}, inplace = True)\n",
    "\n",
    "fall = mem_tr.query('SELL_M == 9 or SELL_M ==10 or SELL_M ==11').groupby('MEM_ID')['SELL_M'].count().reset_index()\n",
    "fall.rename(columns = {'SELL_M' : 'TR_FL'}, inplace = True)\n",
    "\n",
    "winter = mem_tr.query('SELL_M == 12 or SELL_M == 1 or SELL_M == 2').groupby('MEM_ID')['SELL_M'].count().reset_index()\n",
    "winter.rename(columns = {'SELL_M' : 'TR_WT'}, inplace = True)"
   ]
  },
  {
   "cell_type": "code",
   "execution_count": 46,
   "metadata": {},
   "outputs": [],
   "source": [
    "seasons = [spring, summer, fall, winter]\n",
    "for i in seasons:\n",
    "    mem_data = mem_data.merge(i, how = 'left', on ='MEM_ID')\n",
    "    mem_data.iloc[:,-1] = mem_data.iloc[:,-1].fillna(0)\n",
    "    \n",
    "mem_data[mem_data.columns[-4:].tolist()] = mem_data[mem_data.columns[-4:].tolist()].astype(int)"
   ]
  },
  {
   "cell_type": "markdown",
   "metadata": {},
   "source": [
    "#### 4.8 의류시즌에 따른 구매 TR_S/S, TR_F/W"
   ]
  },
  {
   "cell_type": "code",
   "execution_count": 47,
   "metadata": {},
   "outputs": [],
   "source": [
    "mem_data['TR_S/S'] = mem_data['TR_SP'] + mem_data['TR_SM']\n",
    "mem_data['TR_F/W'] = mem_data['TR_FL'] + mem_data['TR_WT']"
   ]
  },
  {
   "cell_type": "code",
   "execution_count": 48,
   "metadata": {},
   "outputs": [
    {
     "data": {
      "text/html": [
       "<div>\n",
       "<style scoped>\n",
       "    .dataframe tbody tr th:only-of-type {\n",
       "        vertical-align: middle;\n",
       "    }\n",
       "\n",
       "    .dataframe tbody tr th {\n",
       "        vertical-align: top;\n",
       "    }\n",
       "\n",
       "    .dataframe thead th {\n",
       "        text-align: right;\n",
       "    }\n",
       "</style>\n",
       "<table border=\"1\" class=\"dataframe\">\n",
       "  <thead>\n",
       "    <tr style=\"text-align: right;\">\n",
       "      <th></th>\n",
       "      <th>MEM_ID</th>\n",
       "      <th>GENDER</th>\n",
       "      <th>VISIT_CNT</th>\n",
       "      <th>SALES_AMT</th>\n",
       "      <th>USABLE_PNT</th>\n",
       "      <th>USED_PNT</th>\n",
       "      <th>ACC_PNT</th>\n",
       "      <th>USABLE_INIT</th>\n",
       "      <th>SMS</th>\n",
       "      <th>DOR_DAY</th>\n",
       "      <th>...</th>\n",
       "      <th>MEMP_HR</th>\n",
       "      <th>MORN</th>\n",
       "      <th>AFTR</th>\n",
       "      <th>EVEN</th>\n",
       "      <th>TR_SP</th>\n",
       "      <th>TR_SM</th>\n",
       "      <th>TR_FL</th>\n",
       "      <th>TR_WT</th>\n",
       "      <th>TR_S/S</th>\n",
       "      <th>TR_F/W</th>\n",
       "    </tr>\n",
       "  </thead>\n",
       "  <tbody>\n",
       "    <tr>\n",
       "      <td>0</td>\n",
       "      <td>1134945</td>\n",
       "      <td>M</td>\n",
       "      <td>8.0</td>\n",
       "      <td>337000.0</td>\n",
       "      <td>6740.0</td>\n",
       "      <td>0.0</td>\n",
       "      <td>6740.0</td>\n",
       "      <td>3202.0</td>\n",
       "      <td>1</td>\n",
       "      <td>345</td>\n",
       "      <td>...</td>\n",
       "      <td>E</td>\n",
       "      <td>0</td>\n",
       "      <td>0</td>\n",
       "      <td>1</td>\n",
       "      <td>2</td>\n",
       "      <td>1</td>\n",
       "      <td>4</td>\n",
       "      <td>1</td>\n",
       "      <td>3</td>\n",
       "      <td>5</td>\n",
       "    </tr>\n",
       "    <tr>\n",
       "      <td>1</td>\n",
       "      <td>38458</td>\n",
       "      <td>F</td>\n",
       "      <td>22.0</td>\n",
       "      <td>1438500.0</td>\n",
       "      <td>1732.0</td>\n",
       "      <td>12000.0</td>\n",
       "      <td>13732.0</td>\n",
       "      <td>17762.0</td>\n",
       "      <td>1</td>\n",
       "      <td>73</td>\n",
       "      <td>...</td>\n",
       "      <td>E</td>\n",
       "      <td>0</td>\n",
       "      <td>0</td>\n",
       "      <td>1</td>\n",
       "      <td>4</td>\n",
       "      <td>4</td>\n",
       "      <td>9</td>\n",
       "      <td>5</td>\n",
       "      <td>8</td>\n",
       "      <td>14</td>\n",
       "    </tr>\n",
       "    <tr>\n",
       "      <td>2</td>\n",
       "      <td>7009</td>\n",
       "      <td>F</td>\n",
       "      <td>8.0</td>\n",
       "      <td>309300.0</td>\n",
       "      <td>6372.0</td>\n",
       "      <td>0.0</td>\n",
       "      <td>6372.0</td>\n",
       "      <td>1856.0</td>\n",
       "      <td>1</td>\n",
       "      <td>214</td>\n",
       "      <td>...</td>\n",
       "      <td>E</td>\n",
       "      <td>0</td>\n",
       "      <td>0</td>\n",
       "      <td>1</td>\n",
       "      <td>5</td>\n",
       "      <td>1</td>\n",
       "      <td>1</td>\n",
       "      <td>1</td>\n",
       "      <td>6</td>\n",
       "      <td>2</td>\n",
       "    </tr>\n",
       "    <tr>\n",
       "      <td>3</td>\n",
       "      <td>91791</td>\n",
       "      <td>UNKNOWN</td>\n",
       "      <td>11.0</td>\n",
       "      <td>170400.0</td>\n",
       "      <td>3408.0</td>\n",
       "      <td>0.0</td>\n",
       "      <td>3408.0</td>\n",
       "      <td>236.0</td>\n",
       "      <td>1</td>\n",
       "      <td>75</td>\n",
       "      <td>...</td>\n",
       "      <td>A</td>\n",
       "      <td>0</td>\n",
       "      <td>1</td>\n",
       "      <td>0</td>\n",
       "      <td>1</td>\n",
       "      <td>3</td>\n",
       "      <td>5</td>\n",
       "      <td>2</td>\n",
       "      <td>4</td>\n",
       "      <td>7</td>\n",
       "    </tr>\n",
       "    <tr>\n",
       "      <td>4</td>\n",
       "      <td>1374842</td>\n",
       "      <td>M</td>\n",
       "      <td>3.0</td>\n",
       "      <td>110300.0</td>\n",
       "      <td>2206.0</td>\n",
       "      <td>0.0</td>\n",
       "      <td>2206.0</td>\n",
       "      <td>1522.0</td>\n",
       "      <td>1</td>\n",
       "      <td>280</td>\n",
       "      <td>...</td>\n",
       "      <td>M</td>\n",
       "      <td>1</td>\n",
       "      <td>0</td>\n",
       "      <td>0</td>\n",
       "      <td>2</td>\n",
       "      <td>0</td>\n",
       "      <td>0</td>\n",
       "      <td>1</td>\n",
       "      <td>2</td>\n",
       "      <td>1</td>\n",
       "    </tr>\n",
       "  </tbody>\n",
       "</table>\n",
       "<p>5 rows × 40 columns</p>\n",
       "</div>"
      ],
      "text/plain": [
       "    MEM_ID   GENDER  VISIT_CNT  SALES_AMT  USABLE_PNT  USED_PNT  ACC_PNT  \\\n",
       "0  1134945        M        8.0   337000.0      6740.0       0.0   6740.0   \n",
       "1    38458        F       22.0  1438500.0      1732.0   12000.0  13732.0   \n",
       "2     7009        F        8.0   309300.0      6372.0       0.0   6372.0   \n",
       "3    91791  UNKNOWN       11.0   170400.0      3408.0       0.0   3408.0   \n",
       "4  1374842        M        3.0   110300.0      2206.0       0.0   2206.0   \n",
       "\n",
       "   USABLE_INIT  SMS  DOR_DAY  ...  MEMP_HR  MORN  AFTR  EVEN  TR_SP  TR_SM  \\\n",
       "0       3202.0    1      345  ...        E     0     0     1      2      1   \n",
       "1      17762.0    1       73  ...        E     0     0     1      4      4   \n",
       "2       1856.0    1      214  ...        E     0     0     1      5      1   \n",
       "3        236.0    1       75  ...        A     0     1     0      1      3   \n",
       "4       1522.0    1      280  ...        M     1     0     0      2      0   \n",
       "\n",
       "   TR_FL  TR_WT  TR_S/S  TR_F/W  \n",
       "0      4      1       3       5  \n",
       "1      9      5       8      14  \n",
       "2      1      1       6       2  \n",
       "3      5      2       4       7  \n",
       "4      0      1       2       1  \n",
       "\n",
       "[5 rows x 40 columns]"
      ]
     },
     "execution_count": 48,
     "metadata": {},
     "output_type": "execute_result"
    }
   ],
   "source": [
    "mem_data.head()"
   ]
  },
  {
   "cell_type": "markdown",
   "metadata": {},
   "source": [
    "#### 4.9 거래 정보- STY_O, STY_M"
   ]
  },
  {
   "cell_type": "code",
   "execution_count": 49,
   "metadata": {
    "scrolled": false
   },
   "outputs": [],
   "source": [
    "# 주문시 적립 횟수(O)\n",
    "sty_o = mem_tr.query('MEMP_STY == \"O\"').groupby('MEM_ID')['MEMP_STY'].count().reset_index()\n",
    "sty_o.rename(columns = {'MEMP_STY' : 'STY_O'}, inplace = True)\n",
    "\n",
    "#추후 적립한 횟수(M)\n",
    "sty_m = mem_tr.query('MEMP_STY == \"M\"').groupby('MEM_ID')['MEMP_STY'].count().reset_index()\n",
    "sty_m.rename(columns = {'MEMP_STY' : 'STY_M'}, inplace = True)"
   ]
  },
  {
   "cell_type": "code",
   "execution_count": 50,
   "metadata": {},
   "outputs": [],
   "source": [
    "styles = [sty_o, sty_m]\n",
    "for i in styles:\n",
    "    mem_data = mem_data.merge(i, how = 'left', on ='MEM_ID')\n",
    "    mem_data.iloc[:,-1] = mem_data.iloc[:,-1].fillna(0)\n",
    "mem_data[mem_data.columns[-2:].tolist()] = mem_data[mem_data.columns[-2:].tolist()].astype(int)"
   ]
  },
  {
   "cell_type": "markdown",
   "metadata": {},
   "source": [
    "### 불필요한 변수 삭제"
   ]
  },
  {
   "cell_type": "code",
   "execution_count": 51,
   "metadata": {},
   "outputs": [],
   "source": [
    "mem_data.drop('MEMP_HR', axis = 1, inplace = True)"
   ]
  },
  {
   "cell_type": "markdown",
   "metadata": {},
   "source": [
    "## 이상치 처리"
   ]
  },
  {
   "cell_type": "code",
   "execution_count": 52,
   "metadata": {},
   "outputs": [],
   "source": [
    "mem_data['VISIT_CNT'] = mem_data['VISIT_CNT'].clip(upper = 300)\n",
    "mem_data['SALES_AMT'] = mem_data['SALES_AMT'].clip(upper = 10000000)\n",
    "mem_data['USABLE_PNT'] = mem_data['USABLE_PNT'].clip(upper = 70000)\n",
    "mem_data['USED_PNT'] = mem_data['USED_PNT'].clip(upper = 150000)\n",
    "mem_data['ACC_PNT'] = mem_data['ACC_PNT'].clip(upper = 140000)\n",
    "mem_data['USABLE_INIT'] = mem_data['USABLE_INIT'].clip(upper = 30000)\n",
    "mem_data['DOR_DAY'] = mem_data['DOR_DAY'].clip(upper = 680)\n",
    "mem_data['VIS_DAY'] = mem_data['VIS_DAY'].clip(lower = 300)\n",
    "mem_data['SAL/VIST'] = mem_data['SAL/VIST'].clip(lower = 100, upper = 1000000)\n",
    "mem_data['BUY_MEAN'] = mem_data['BUY_MEAN'].clip(upper = 1000000)\n",
    "mem_data['POINT_N'] = mem_data['POINT_N'].clip(upper = 400)\n",
    "mem_data['WEEKEND_CNT'] = mem_data['WEEKEND_CNT'].clip(upper = 60)\n",
    "mem_data['WEEK_CNT'] = mem_data['WEEK_CNT'].clip(upper = 300)"
   ]
  },
  {
   "cell_type": "markdown",
   "metadata": {},
   "source": [
    "## 5. 이산형 변수들의 로그처리"
   ]
  },
  {
   "cell_type": "markdown",
   "metadata": {},
   "source": [
    "#### 구매 합계(SALES_AMT) 로그 처리 하기\n",
    "- 참고 : 로그처리에는 음수가 들어갈 수 없음 / 0이 있을 경우 1을 더하고 처리"
   ]
  },
  {
   "cell_type": "code",
   "execution_count": 53,
   "metadata": {},
   "outputs": [],
   "source": [
    "def log_processing(x):\n",
    "    f = mem_data[x].where(mem_data[x]>=0, other=0)\n",
    "    f = np.log(f+1)\n",
    "    mem_data[x] = f"
   ]
  },
  {
   "cell_type": "code",
   "execution_count": 54,
   "metadata": {},
   "outputs": [],
   "source": [
    "log_target = ['SALES_AMT', 'USABLE_PNT', 'USED_PNT', 'ACC_PNT', 'USABLE_INIT',\n",
    "              'DOR_DAY', 'VIS_DAY','SAL/VIST','BUY_MEAN']"
   ]
  },
  {
   "cell_type": "code",
   "execution_count": 55,
   "metadata": {},
   "outputs": [],
   "source": [
    "for i in log_target:\n",
    "    log_processing(i)"
   ]
  },
  {
   "cell_type": "markdown",
   "metadata": {},
   "source": [
    "## **[최종 결과 저장]**"
   ]
  },
  {
   "cell_type": "markdown",
   "metadata": {},
   "source": [
    "- mem_data에 최종 결과가 모일 수 있도록 준비\n",
    "- 1.예측에 사용하지 않을 열들 drop\n",
    "- 2.csv형태로 저장\n",
    "- **주의사항1 : MEM_ID열은 삭제하지 마세요. **\n",
    "- MEM_ID를 변수로 사용하기를 원하면 다른 열을 새로 생성해서 복사해서 사용하세요.\n",
    "- 주의사항2 : GENDER열을 제외하고 문자열이 포함된 열이 데이터에 포함되지 않도록 한다."
   ]
  },
  {
   "cell_type": "code",
   "execution_count": 56,
   "metadata": {},
   "outputs": [
    {
     "name": "stdout",
     "output_type": "stream",
     "text": [
      "<class 'pandas.core.frame.DataFrame'>\n",
      "Int64Index: 10764 entries, 0 to 10763\n",
      "Data columns (total 41 columns):\n",
      "MEM_ID          10764 non-null int64\n",
      "GENDER          10764 non-null object\n",
      "VISIT_CNT       10764 non-null float64\n",
      "SALES_AMT       10764 non-null float64\n",
      "USABLE_PNT      10764 non-null float64\n",
      "USED_PNT        10764 non-null float64\n",
      "ACC_PNT         10764 non-null float64\n",
      "USABLE_INIT     10764 non-null float64\n",
      "SMS             10764 non-null int32\n",
      "DOR_DAY         10764 non-null float64\n",
      "VIS_DAY         10764 non-null float64\n",
      "AGE             10764 non-null int64\n",
      "PRED_AGE        10764 non-null int32\n",
      "F_AGE           10764 non-null int64\n",
      "AGE_0           10764 non-null int64\n",
      "AGE_10          10764 non-null int64\n",
      "AGE_20          10764 non-null int64\n",
      "AGE_30          10764 non-null int64\n",
      "AGE_40          10764 non-null int64\n",
      "AGE_50          10764 non-null int64\n",
      "AGE_A60         10764 non-null int64\n",
      "REGION          10764 non-null int32\n",
      "F_ST            10764 non-null int64\n",
      "M_ST            10764 non-null int64\n",
      "SAL/VIST        10764 non-null float64\n",
      "BUY_MEAN        10764 non-null float64\n",
      "POINT_N         10764 non-null int64\n",
      "WEEKEND_CNT     10764 non-null int64\n",
      "WEEK_CNT        10764 non-null int64\n",
      "WEEKEND_FREQ    10764 non-null int64\n",
      "MORN            10764 non-null int64\n",
      "AFTR            10764 non-null int64\n",
      "EVEN            10764 non-null int64\n",
      "TR_SP           10764 non-null int32\n",
      "TR_SM           10764 non-null int32\n",
      "TR_FL           10764 non-null int32\n",
      "TR_WT           10764 non-null int32\n",
      "TR_S/S          10764 non-null int32\n",
      "TR_F/W          10764 non-null int32\n",
      "STY_O           10764 non-null int32\n",
      "STY_M           10764 non-null int32\n",
      "dtypes: float64(10), int32(11), int64(19), object(1)\n",
      "memory usage: 3.0+ MB\n"
     ]
    }
   ],
   "source": [
    "mem_data.info()"
   ]
  },
  {
   "cell_type": "code",
   "execution_count": 57,
   "metadata": {},
   "outputs": [],
   "source": [
    "final_data = mem_data"
   ]
  },
  {
   "cell_type": "code",
   "execution_count": 58,
   "metadata": {},
   "outputs": [],
   "source": [
    "final_data.to_csv('data_preparation_12.csv', index=False)"
   ]
  },
  {
   "cell_type": "code",
   "execution_count": null,
   "metadata": {},
   "outputs": [],
   "source": []
  }
 ],
 "metadata": {
  "kernelspec": {
   "display_name": "Python 3",
   "language": "python",
   "name": "python3"
  },
  "language_info": {
   "codemirror_mode": {
    "name": "ipython",
    "version": 3
   },
   "file_extension": ".py",
   "mimetype": "text/x-python",
   "name": "python",
   "nbconvert_exporter": "python",
   "pygments_lexer": "ipython3",
   "version": "3.7.4"
  }
 },
 "nbformat": 4,
 "nbformat_minor": 2
}
